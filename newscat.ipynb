{
 "cells": [
  {
   "cell_type": "code",
   "execution_count": 1,
   "id": "e5e56f41-77f1-4880-a448-4d0db39e775e",
   "metadata": {},
   "outputs": [
    {
     "name": "stderr",
     "output_type": "stream",
     "text": [
      "2023-04-18 20:17:00.158495: I tensorflow/core/platform/cpu_feature_guard.cc:193] This TensorFlow binary is optimized with oneAPI Deep Neural Network Library (oneDNN) to use the following CPU instructions in performance-critical operations:  AVX2 FMA\n",
      "To enable them in other operations, rebuild TensorFlow with the appropriate compiler flags.\n",
      "2023-04-18 20:17:01.300387: W tensorflow/compiler/xla/stream_executor/platform/default/dso_loader.cc:64] Could not load dynamic library 'libnvinfer.so.7'; dlerror: libnvinfer.so.7: cannot open shared object file: No such file or directory; LD_LIBRARY_PATH: :/usr/local/cuda/lib64\n",
      "2023-04-18 20:17:01.300512: W tensorflow/compiler/xla/stream_executor/platform/default/dso_loader.cc:64] Could not load dynamic library 'libnvinfer_plugin.so.7'; dlerror: libnvinfer_plugin.so.7: cannot open shared object file: No such file or directory; LD_LIBRARY_PATH: :/usr/local/cuda/lib64\n",
      "2023-04-18 20:17:01.300521: W tensorflow/compiler/tf2tensorrt/utils/py_utils.cc:38] TF-TRT Warning: Cannot dlopen some TensorRT libraries. If you would like to use Nvidia GPU with TensorRT, please make sure the missing libraries mentioned above are installed properly.\n",
      "2023-04-18 20:17:02.215258: I tensorflow/compiler/xla/stream_executor/cuda/cuda_gpu_executor.cc:981] successful NUMA node read from SysFS had negative value (-1), but there must be at least one NUMA node, so returning NUMA node zero\n",
      "2023-04-18 20:17:02.215702: I tensorflow/compiler/xla/stream_executor/cuda/cuda_gpu_executor.cc:981] successful NUMA node read from SysFS had negative value (-1), but there must be at least one NUMA node, so returning NUMA node zero\n",
      "2023-04-18 20:17:02.215863: I tensorflow/compiler/xla/stream_executor/cuda/cuda_gpu_executor.cc:981] successful NUMA node read from SysFS had negative value (-1), but there must be at least one NUMA node, so returning NUMA node zero\n"
     ]
    }
   ],
   "source": [
    "import nltk\n",
    "import pandas as pd\n",
    "import pickle\n",
    "import spacy\n",
    "from nltk.corpus import stopwords\n",
    "from sklearn.feature_extraction.text import CountVectorizer\n",
    "from sklearn.preprocessing import OneHotEncoder\n",
    "import numpy as np\n",
    "from tensorflow import keras"
   ]
  },
  {
   "cell_type": "code",
   "execution_count": 8,
   "id": "3582a4b8-b395-4cbc-9838-b342ff38b064",
   "metadata": {},
   "outputs": [],
   "source": [
    "import pandas as pd\n",
    "df = pd.read_json(\"newsdataset.json\", lines=True)"
   ]
  },
  {
   "cell_type": "code",
   "execution_count": null,
   "id": "a151d167-ce52-411e-b727-61d454d974af",
   "metadata": {},
   "outputs": [],
   "source": [
    "model = spacy.load(\"en_core_web_trf\")\n",
    "df.head(5)"
   ]
  },
  {
   "cell_type": "code",
   "execution_count": null,
   "id": "0c632975-7102-4856-984c-c40aa9a456c2",
   "metadata": {},
   "outputs": [],
   "source": [
    "df.drop(columns=[\"authors\",\"link\",\"date\"], inplace=True)"
   ]
  },
  {
   "cell_type": "code",
   "execution_count": null,
   "id": "4356d184-0014-4434-9de4-10cbf77d5b7e",
   "metadata": {},
   "outputs": [],
   "source": [
    "df.shape"
   ]
  },
  {
   "cell_type": "code",
   "execution_count": null,
   "id": "450ca6c7-ca3f-4cfe-bad0-bfa567f92965",
   "metadata": {},
   "outputs": [],
   "source": [
    "df.columns"
   ]
  },
  {
   "cell_type": "code",
   "execution_count": null,
   "id": "00956037-9a5f-4839-8028-0e4bc8c8d4a1",
   "metadata": {},
   "outputs": [],
   "source": [
    "df[\"fullnews\"] = df[\"headline\"] +\" \"+ df[\"short_description\"]"
   ]
  },
  {
   "cell_type": "code",
   "execution_count": null,
   "id": "0ef87ebb-9059-40bc-9dbc-a121579415c9",
   "metadata": {},
   "outputs": [],
   "source": [
    "df = df[[\"category\",\"fullnews\"]]"
   ]
  },
  {
   "cell_type": "code",
   "execution_count": null,
   "id": "e1c97547-1db7-4fcc-890c-89243cc755b2",
   "metadata": {},
   "outputs": [],
   "source": [
    "df.sample(5)"
   ]
  },
  {
   "cell_type": "code",
   "execution_count": null,
   "id": "64561f1c-0f42-4205-89ab-e15b10755527",
   "metadata": {},
   "outputs": [],
   "source": [
    "'''dropcat = [\"RELIGION\", \"LATINO VOICES\", \"FIFTY\", \"WEIRD NEWS\", \"ENVIRONMENT\", \"QUEER VOICES\", \"GOOD NEWS\", \"MEDIA\", \"WEDDINGS\", \"GREEN\", \"TASTE\", \"WORLD NEWS\", \"IMPACT\", \"WOMEN\"]\n",
    "\n",
    "for i in dropcat:\n",
    "    df.drop(df.loc[df[\"category\"]==i].index, inplace=True, axis=0)\n",
    "\n",
    "df.loc[df[\"category\"]==\"COLLEGE\"] = [\"EDUCATION\"]\n",
    "df.loc[df[\"category\"]==\"ARTS & CULTURE\"] = [\"CULTURE & ARTS\"]\n",
    "df.loc[df[\"category\"]==\"ARTS\"] = [\"CULTURE & ARTS\"]\n",
    "df.loc[(df[\"category\"]==\"SCIENCE\") | (df[\"category\"]==\"TECH\")] = [\"SCIENCE & TECH\"]\n",
    "df.loc[df[\"category\"]==\"WORLDPOST\"] = [\"THE WORLDPOST\"]\n",
    "df.loc[df[\"category\"]==\"STYLE\"] = [\"STYLE & BEAUTY\"]\n",
    "df.loc[df[\"category\"]==\"MONEY\"] = [\"BUSINESS\"]\n",
    "\n",
    "df.reset_index(inplace=True, drop=True)\n",
    "df.to_json(\"smalldataset/newsdataset.json\", lines=True, orient=\"records\")'''"
   ]
  },
  {
   "cell_type": "code",
   "execution_count": null,
   "id": "7568b03b-0186-4d81-bb04-9e725403af24",
   "metadata": {},
   "outputs": [],
   "source": [
    "not_allowed_word_types = [\"PUNCT\", \"DET\", \"PART\", \"CCONJ\", \"SPACE\"]\n",
    "token_news = []\n",
    "count = 0\n",
    "\n",
    "for i in df[\"fullnews\"]:\n",
    "    tokenised = model(i)\n",
    "    smalltoken = [j.lemma_ for j in \n",
    "                  tokenised if j.pos_ not in not_allowed_word_types]\n",
    "    token_news.append(smalltoken)\n",
    "    count += 1\n",
    "    if count%5000==0:\n",
    "        print(count)"
   ]
  },
  {
   "cell_type": "code",
   "execution_count": null,
   "id": "a50a01b2-c4bb-40bb-b466-a3bafe13aede",
   "metadata": {},
   "outputs": [],
   "source": [
    "df[\"tokenizednews\"] = token_news"
   ]
  },
  {
   "cell_type": "code",
   "execution_count": 36,
   "id": "8cf5f0c8-abb2-4568-af96-07392216c528",
   "metadata": {},
   "outputs": [],
   "source": [
    "stop_words = stopwords.words(\"english\")"
   ]
  },
  {
   "cell_type": "code",
   "execution_count": 37,
   "id": "43a2c110-c66d-4bdf-87a4-79b0e58ca720",
   "metadata": {},
   "outputs": [],
   "source": [
    "all_words = [w.lower()\n",
    "            for p in df[\"tokenizednews\"]\n",
    "            for w in p\n",
    "            if w.lower() not in stop_words]"
   ]
  },
  {
   "cell_type": "code",
   "execution_count": null,
   "id": "cb02ac36-c932-4621-b45f-60ff064163ac",
   "metadata": {},
   "outputs": [],
   "source": [
    "\"\"\"allowed_word_types = [\"J\"]\n",
    "\n",
    "\n",
    "for p in df[\"tokenizednews\"]:\n",
    "    pos = nltk.pos_tag(p)\n",
    "    for w in pos:\n",
    "        if w[1][0] in allowed_word_types:\n",
    "            all_words.append(w[0].lower())\"\"\""
   ]
  },
  {
   "cell_type": "code",
   "execution_count": null,
   "id": "a23a372c-34bf-4e56-8f9c-236d95365627",
   "metadata": {},
   "outputs": [],
   "source": [
    "\"\"\"print(len(all_words))\n",
    "all_words = nltk.FreqDist(all_words)\n",
    "print(len(all_words))\"\"\""
   ]
  },
  {
   "cell_type": "code",
   "execution_count": 38,
   "id": "50d89735-4d01-4905-855a-42fb5975e81c",
   "metadata": {},
   "outputs": [
    {
     "name": "stdout",
     "output_type": "stream",
     "text": [
      "2918465\n",
      "69704\n"
     ]
    }
   ],
   "source": [
    "print(len(all_words))\n",
    "all_wordsfre = nltk.FreqDist(all_words)\n",
    "print(len(all_wordsfre))"
   ]
  },
  {
   "cell_type": "code",
   "execution_count": null,
   "id": "44b60932-baa8-4ace-ad6f-30dd81c0f3d6",
   "metadata": {},
   "outputs": [],
   "source": [
    "all_wordsfre.most_common(15)"
   ]
  },
  {
   "cell_type": "code",
   "execution_count": 39,
   "id": "3ab69dd6-340e-4e0a-843f-2a95568fe2f6",
   "metadata": {},
   "outputs": [],
   "source": [
    "word_features = [w[0] for w in all_wordsfre.most_common()]"
   ]
  },
  {
   "cell_type": "code",
   "execution_count": null,
   "id": "ed2066d6-4f89-4018-ba8a-558e91bf0fce",
   "metadata": {},
   "outputs": [],
   "source": [
    "def find_features(document):\n",
    "    words = set(document)\n",
    "    features = {}\n",
    "    for w in word_features:\n",
    "        features[w] = (w in words)\n",
    "    \n",
    "    return features"
   ]
  },
  {
   "cell_type": "code",
   "execution_count": null,
   "id": "b2ea6663-b189-479c-b512-fd7519d36ce7",
   "metadata": {},
   "outputs": [],
   "source": [
    "df.shape[0]"
   ]
  },
  {
   "cell_type": "code",
   "execution_count": null,
   "id": "f92bd2b4-1136-475f-839c-6c4f797cc7d6",
   "metadata": {},
   "outputs": [],
   "source": [
    "'''df.to_json(\"smalldataset/newsdatasetjson\", lines=True, orient=\"records\")'''"
   ]
  },
  {
   "cell_type": "code",
   "execution_count": null,
   "id": "d37cb417-c7c8-4ba5-99ba-c4f44c892ced",
   "metadata": {},
   "outputs": [],
   "source": [
    "file = open(\"smalldataset/word_features.pickle\",\"wb\")\n",
    "pickle.dump(word_features, file)"
   ]
  },
  {
   "cell_type": "code",
   "execution_count": null,
   "id": "ee7b51b7-698c-4928-a0b6-5ab9e2590039",
   "metadata": {},
   "outputs": [],
   "source": [
    "file = open(\"smalldataset/word_features.pickle\", \"rb\")\n",
    "word_features = pickle.load(file)\n",
    "word_features = word_features[:10000]"
   ]
  },
  {
   "cell_type": "code",
   "execution_count": null,
   "id": "548f0652-2f74-4d57-b495-43a72b62b01e",
   "metadata": {},
   "outputs": [],
   "source": [
    "countvector = CountVectorizer().fit(word_features)\n",
    "not_words = [i for i in word_features if i not in countvector.vocabulary_]\n",
    "\n",
    "for i in not_words:\n",
    "    word_features.remove(i)\n",
    "\n",
    "word_features = word_features[:8000]\n",
    "countvector = CountVectorizer().fit(word_features)"
   ]
  },
  {
   "cell_type": "code",
   "execution_count": null,
   "id": "e74241f5-4416-4bc0-b130-64a94ac5e4bc",
   "metadata": {},
   "outputs": [],
   "source": [
    "encoder = OneHotEncoder()\n",
    "encoder.fit(np.array(df[\"category\"]).reshape(-1,1))"
   ]
  },
  {
   "cell_type": "code",
   "execution_count": null,
   "id": "f76acda4-1145-4169-8cf8-87646f2e4e14",
   "metadata": {},
   "outputs": [],
   "source": [
    "df = pd.read_json(\"smalldataset/newsdataset.json\", lines=True, chunksize=5000)"
   ]
  },
  {
   "cell_type": "code",
   "execution_count": null,
   "id": "e1b2abd9-8de3-48b6-b175-5a9cb5fedec0",
   "metadata": {},
   "outputs": [],
   "source": [
    "def find_features(document):\n",
    "    features = countvector.transform(document).toarray()\n",
    "            \n",
    "    return features"
   ]
  },
  {
   "cell_type": "code",
   "execution_count": null,
   "id": "52b15d27-e79b-4c8e-a309-7b2cf989aba6",
   "metadata": {},
   "outputs": [],
   "source": [
    "\n",
    "def get_features():\n",
    "    for data in df:\n",
    "\n",
    "        Y = encoder.transform(np.array(data[\"category\"]).reshape(-1,1)).toarray()\n",
    "\n",
    "        X = find_features(data[\"fullnews\"])\n",
    "\n",
    "        break\n",
    "        \n",
    "    return X, Y\n",
    "        "
   ]
  },
  {
   "cell_type": "code",
   "execution_count": 2,
   "id": "fae6c7fa-5b9b-4456-8ba9-f833c5665688",
   "metadata": {},
   "outputs": [],
   "source": [
    "import tensorflow as tf\n",
    "from tensorflow import keras\n",
    "from tensorflow.keras.regularizers import l2\n",
    "from tensorflow.keras.activations import relu"
   ]
  },
  {
   "cell_type": "code",
   "execution_count": 3,
   "id": "62cafc32-1a00-4609-9954-dc9b42167e9d",
   "metadata": {},
   "outputs": [],
   "source": [
    "from sklearn.metrics import accuracy_score\n",
    "from sklearn.model_selection import train_test_split\n",
    "from sklearn.preprocessing import LabelEncoder"
   ]
  },
  {
   "cell_type": "code",
   "execution_count": 4,
   "id": "de70b20e-43af-4444-8b1b-35ea2998c112",
   "metadata": {},
   "outputs": [],
   "source": [
    "from keras.layers import Bidirectional, Embedding, Conv1D, MaxPooling1D, SimpleRNN, LSTM, GRU, Dropout, Dense, Input"
   ]
  },
  {
   "cell_type": "code",
   "execution_count": 5,
   "id": "b61dd574-1a65-4532-bb7a-02ff3257fbf8",
   "metadata": {},
   "outputs": [
    {
     "name": "stderr",
     "output_type": "stream",
     "text": [
      "2023-04-17 18:40:04.667416: I tensorflow/core/platform/cpu_feature_guard.cc:193] This TensorFlow binary is optimized with oneAPI Deep Neural Network Library (oneDNN) to use the following CPU instructions in performance-critical operations:  AVX2 FMA\n",
      "To enable them in other operations, rebuild TensorFlow with the appropriate compiler flags.\n",
      "2023-04-17 18:40:04.669165: I tensorflow/compiler/xla/stream_executor/cuda/cuda_gpu_executor.cc:981] successful NUMA node read from SysFS had negative value (-1), but there must be at least one NUMA node, so returning NUMA node zero\n",
      "2023-04-17 18:40:04.669470: I tensorflow/compiler/xla/stream_executor/cuda/cuda_gpu_executor.cc:981] successful NUMA node read from SysFS had negative value (-1), but there must be at least one NUMA node, so returning NUMA node zero\n",
      "2023-04-17 18:40:04.669625: I tensorflow/compiler/xla/stream_executor/cuda/cuda_gpu_executor.cc:981] successful NUMA node read from SysFS had negative value (-1), but there must be at least one NUMA node, so returning NUMA node zero\n",
      "2023-04-17 18:40:04.670374: I tensorflow/compiler/xla/stream_executor/cuda/cuda_gpu_executor.cc:981] successful NUMA node read from SysFS had negative value (-1), but there must be at least one NUMA node, so returning NUMA node zero\n",
      "2023-04-17 18:40:04.670759: I tensorflow/compiler/xla/stream_executor/cuda/cuda_gpu_executor.cc:981] successful NUMA node read from SysFS had negative value (-1), but there must be at least one NUMA node, so returning NUMA node zero\n",
      "2023-04-17 18:40:04.670914: I tensorflow/compiler/xla/stream_executor/cuda/cuda_gpu_executor.cc:981] successful NUMA node read from SysFS had negative value (-1), but there must be at least one NUMA node, so returning NUMA node zero\n",
      "2023-04-17 18:40:04.671237: I tensorflow/core/common_runtime/gpu/gpu_device.cc:1613] Created device /job:localhost/replica:0/task:0/device:GPU:0 with 2221 MB memory:  -> device: 0, name: NVIDIA GeForce GTX 1650, pci bus id: 0000:01:00.0, compute capability: 7.5\n"
     ]
    }
   ],
   "source": [
    "#checkpoint = keras.callbacks.ModelCheckpoint(\"model.h5\", save_best_only=True)\n",
    "model = keras.Sequential([\n",
    "    keras.layers.Input(shape=(8000,)),\n",
    "    keras.layers.Dense(1000, activation=\"LeakyReLU\"),\n",
    "    keras.layers.Dropout(0.3),\n",
    "    keras.layers.Dense(800, activation=\"LeakyReLU\"),\n",
    "    keras.layers.Dense(400, activation=\"LeakyReLU\"),\n",
    "    keras.layers.Dropout(0.3),\n",
    "    keras.layers.Dense(200, activation=\"LeakyReLU\"),\n",
    "    keras.layers.BatchNormalization(),\n",
    "    keras.layers.Dense(20, activation=\"softmax\"),\n",
    "])\n",
    "model.compile(optimizer=\"adam\", loss=\"categorical_crossentropy\", metrics=[\"accuracy\"])\n"
   ]
  },
  {
   "cell_type": "code",
   "execution_count": null,
   "id": "543e6e29-2481-448c-9a73-7d557e46a2b2",
   "metadata": {},
   "outputs": [],
   "source": [
    "model2 = keras.Sequential()\n",
    "model2.add(Input(shape=8000))\n",
    "model2.add(Embedding(8000, 3))\n",
    "model2.add(Bidirectional(LSTM(64, dropout=0.1, recurrent_dropout=0.10, activation='tanh', return_sequences=True)))\n",
    "model2.add(Bidirectional(LSTM(64, dropout=0.2, recurrent_dropout=0.20, activation='tanh', return_sequences=True)))\n",
    "model2.add(Bidirectional(SimpleRNN(64, dropout=0.2, recurrent_dropout=0.20, activation='tanh', return_sequences=True)))\n",
    "model2.add(Conv1D(72, 3, activation='relu'))\n",
    "model2.add(MaxPooling1D(2))\n",
    "model2.add(SimpleRNN(64, activation='tanh', dropout=0.2, recurrent_dropout=0.20, return_sequences=True))\n",
    "model2.add(GRU(64, recurrent_dropout=0.20, recurrent_regularizer='l1_l2'))\n",
    "model2.add(Dropout(0.2))\n",
    "model2.add(Dense(20, activation='softmax'))\n",
    "model2.summary()\n",
    "\n",
    "\n",
    "\n",
    "model2.compile(optimizer='adam',\n",
    "              loss='categorical_crossentropy',\n",
    "              metrics=['accuracy']\n",
    "              )"
   ]
  },
  {
   "cell_type": "code",
   "execution_count": 6,
   "id": "41928047-9535-4668-9991-da3d1c1cb00f",
   "metadata": {},
   "outputs": [],
   "source": [
    "labencoder = LabelEncoder()\n",
    "#encoder.classes_ = np.load(\"labelencoder15.npy\", allow_pickle=True)"
   ]
  },
  {
   "cell_type": "code",
   "execution_count": 7,
   "id": "0a97d30b-1087-4ed5-b518-5dc2b401ae8c",
   "metadata": {},
   "outputs": [
    {
     "data": {
      "text/html": [
       "<style>#sk-container-id-1 {color: black;background-color: white;}#sk-container-id-1 pre{padding: 0;}#sk-container-id-1 div.sk-toggleable {background-color: white;}#sk-container-id-1 label.sk-toggleable__label {cursor: pointer;display: block;width: 100%;margin-bottom: 0;padding: 0.3em;box-sizing: border-box;text-align: center;}#sk-container-id-1 label.sk-toggleable__label-arrow:before {content: \"▸\";float: left;margin-right: 0.25em;color: #696969;}#sk-container-id-1 label.sk-toggleable__label-arrow:hover:before {color: black;}#sk-container-id-1 div.sk-estimator:hover label.sk-toggleable__label-arrow:before {color: black;}#sk-container-id-1 div.sk-toggleable__content {max-height: 0;max-width: 0;overflow: hidden;text-align: left;background-color: #f0f8ff;}#sk-container-id-1 div.sk-toggleable__content pre {margin: 0.2em;color: black;border-radius: 0.25em;background-color: #f0f8ff;}#sk-container-id-1 input.sk-toggleable__control:checked~div.sk-toggleable__content {max-height: 200px;max-width: 100%;overflow: auto;}#sk-container-id-1 input.sk-toggleable__control:checked~label.sk-toggleable__label-arrow:before {content: \"▾\";}#sk-container-id-1 div.sk-estimator input.sk-toggleable__control:checked~label.sk-toggleable__label {background-color: #d4ebff;}#sk-container-id-1 div.sk-label input.sk-toggleable__control:checked~label.sk-toggleable__label {background-color: #d4ebff;}#sk-container-id-1 input.sk-hidden--visually {border: 0;clip: rect(1px 1px 1px 1px);clip: rect(1px, 1px, 1px, 1px);height: 1px;margin: -1px;overflow: hidden;padding: 0;position: absolute;width: 1px;}#sk-container-id-1 div.sk-estimator {font-family: monospace;background-color: #f0f8ff;border: 1px dotted black;border-radius: 0.25em;box-sizing: border-box;margin-bottom: 0.5em;}#sk-container-id-1 div.sk-estimator:hover {background-color: #d4ebff;}#sk-container-id-1 div.sk-parallel-item::after {content: \"\";width: 100%;border-bottom: 1px solid gray;flex-grow: 1;}#sk-container-id-1 div.sk-label:hover label.sk-toggleable__label {background-color: #d4ebff;}#sk-container-id-1 div.sk-serial::before {content: \"\";position: absolute;border-left: 1px solid gray;box-sizing: border-box;top: 0;bottom: 0;left: 50%;z-index: 0;}#sk-container-id-1 div.sk-serial {display: flex;flex-direction: column;align-items: center;background-color: white;padding-right: 0.2em;padding-left: 0.2em;position: relative;}#sk-container-id-1 div.sk-item {position: relative;z-index: 1;}#sk-container-id-1 div.sk-parallel {display: flex;align-items: stretch;justify-content: center;background-color: white;position: relative;}#sk-container-id-1 div.sk-item::before, #sk-container-id-1 div.sk-parallel-item::before {content: \"\";position: absolute;border-left: 1px solid gray;box-sizing: border-box;top: 0;bottom: 0;left: 50%;z-index: -1;}#sk-container-id-1 div.sk-parallel-item {display: flex;flex-direction: column;z-index: 1;position: relative;background-color: white;}#sk-container-id-1 div.sk-parallel-item:first-child::after {align-self: flex-end;width: 50%;}#sk-container-id-1 div.sk-parallel-item:last-child::after {align-self: flex-start;width: 50%;}#sk-container-id-1 div.sk-parallel-item:only-child::after {width: 0;}#sk-container-id-1 div.sk-dashed-wrapped {border: 1px dashed gray;margin: 0 0.4em 0.5em 0.4em;box-sizing: border-box;padding-bottom: 0.4em;background-color: white;}#sk-container-id-1 div.sk-label label {font-family: monospace;font-weight: bold;display: inline-block;line-height: 1.2em;}#sk-container-id-1 div.sk-label-container {text-align: center;}#sk-container-id-1 div.sk-container {/* jupyter's `normalize.less` sets `[hidden] { display: none; }` but bootstrap.min.css set `[hidden] { display: none !important; }` so we also need the `!important` here to be able to override the default hidden behavior on the sphinx rendered scikit-learn.org. See: https://github.com/scikit-learn/scikit-learn/issues/21755 */display: inline-block !important;position: relative;}#sk-container-id-1 div.sk-text-repr-fallback {display: none;}</style><div id=\"sk-container-id-1\" class=\"sk-top-container\"><div class=\"sk-text-repr-fallback\"><pre>LabelEncoder()</pre><b>In a Jupyter environment, please rerun this cell to show the HTML representation or trust the notebook. <br />On GitHub, the HTML representation is unable to render, please try loading this page with nbviewer.org.</b></div><div class=\"sk-container\" hidden><div class=\"sk-item\"><div class=\"sk-estimator sk-toggleable\"><input class=\"sk-toggleable__control sk-hidden--visually\" id=\"sk-estimator-id-1\" type=\"checkbox\" checked><label for=\"sk-estimator-id-1\" class=\"sk-toggleable__label sk-toggleable__label-arrow\">LabelEncoder</label><div class=\"sk-toggleable__content\"><pre>LabelEncoder()</pre></div></div></div></div></div>"
      ],
      "text/plain": [
       "LabelEncoder()"
      ]
     },
     "execution_count": 7,
     "metadata": {},
     "output_type": "execute_result"
    }
   ],
   "source": [
    "labencoder.fit(df[\"category\"])\n",
    "#np.save(\"smalldataset/labelencoder.npy\", labencoder.classes_)"
   ]
  },
  {
   "cell_type": "code",
   "execution_count": null,
   "id": "162d7475-6895-4324-8ee1-06c4d8967f79",
   "metadata": {},
   "outputs": [],
   "source": [
    "len(encoder.classes_)"
   ]
  },
  {
   "cell_type": "code",
   "execution_count": null,
   "id": "273b3dfb-e917-4813-8761-c787dba15e7f",
   "metadata": {},
   "outputs": [],
   "source": [
    "X_test = []\n",
    "Y_test = []\n",
    "checkpoint = keras.callbacks.ModelCheckpoint(\"model.h5\", save_best_only=True)"
   ]
  },
  {
   "cell_type": "code",
   "execution_count": null,
   "id": "a6b15de6-e3ec-4972-961b-c436e45b0d11",
   "metadata": {},
   "outputs": [],
   "source": [
    "for i in range(10):\n",
    "    X, Y = get_features()\n",
    "    \n",
    "    x_train, x_test, y_train, y_test = train_test_split(X, Y, test_size=0.2)\n",
    "    X_test.append(x_test)\n",
    "    Y_test.append(y_test)\n",
    "    print(X.shape, Y.shape)\n",
    "    \n",
    "    \n",
    "    model2.fit(x_train, y_train, validation_split=0.2, epochs=5, batch_size=5, callbacks=checkpoint)\n",
    "    print(f\"Accuracy after {i} traindata\")\n",
    "    model2.evaluate(x_test,y_test)\n",
    "    #model = keras.models.load_model(\"model.h5\")\n",
    "    "
   ]
  },
  {
   "cell_type": "code",
   "execution_count": null,
   "id": "484d97f4-1251-4498-bae6-55d03607de84",
   "metadata": {},
   "outputs": [],
   "source": [
    "model = keras.models.load_model(\"model.h5\")"
   ]
  },
  {
   "cell_type": "code",
   "execution_count": null,
   "id": "3ff2108f-6596-4c16-bfeb-d3ee11e05e53",
   "metadata": {},
   "outputs": [],
   "source": [
    "X, Y = get_features()"
   ]
  },
  {
   "cell_type": "code",
   "execution_count": null,
   "id": "9420e1bb-9179-42bc-b8b9-c4ed677b4cf9",
   "metadata": {},
   "outputs": [],
   "source": [
    "Y_pred = model.predict(X)"
   ]
  },
  {
   "cell_type": "code",
   "execution_count": null,
   "id": "37d70a0b-f63e-4f52-a003-f903bfd538b3",
   "metadata": {},
   "outputs": [],
   "source": [
    "y_pred_arg = np.argmax(Y_pred, axis = 1)"
   ]
  },
  {
   "cell_type": "code",
   "execution_count": null,
   "id": "285fe704-7aa1-4f2e-a5b0-a8989ef335f3",
   "metadata": {},
   "outputs": [],
   "source": [
    "max(Y_pred[0])"
   ]
  },
  {
   "cell_type": "code",
   "execution_count": null,
   "id": "0f39634e-99cd-453b-b047-8494dedf5fd5",
   "metadata": {},
   "outputs": [],
   "source": [
    "labencoder.classes_[y_pred_arg[:5]]"
   ]
  },
  {
   "cell_type": "code",
   "execution_count": null,
   "id": "3fda3a46-5a8b-4278-a5e7-f9dc70f558e0",
   "metadata": {},
   "outputs": [],
   "source": [
    "Y[:5]"
   ]
  },
  {
   "cell_type": "code",
   "execution_count": null,
   "id": "b7ae6469-e3c1-41fb-b460-31efa2baa9bd",
   "metadata": {},
   "outputs": [],
   "source": [
    "encoder.categories_"
   ]
  },
  {
   "cell_type": "code",
   "execution_count": null,
   "id": "e7518e09-fdbf-4672-a3a7-d749f5184187",
   "metadata": {},
   "outputs": [],
   "source": [
    "labencoder.classes_"
   ]
  },
  {
   "cell_type": "code",
   "execution_count": null,
   "id": "16008c15-37a7-4772-9eb5-01df99dacfe0",
   "metadata": {},
   "outputs": [],
   "source": [
    "kk = np.array(X_test)"
   ]
  },
  {
   "cell_type": "code",
   "execution_count": null,
   "id": "8c194cc2-5b8e-4319-844c-97b538fd5e49",
   "metadata": {},
   "outputs": [],
   "source": [
    "kk.shape"
   ]
  },
  {
   "cell_type": "code",
   "execution_count": null,
   "id": "6a6bdbd7-fa8b-4f17-a22c-a25b2f497c82",
   "metadata": {},
   "outputs": [],
   "source": [
    "kk = kk.reshape(-1, 8000)"
   ]
  },
  {
   "cell_type": "code",
   "execution_count": null,
   "id": "e6ee87ec-7f58-4109-977f-bf268a88197a",
   "metadata": {},
   "outputs": [],
   "source": [
    "yy = np.array(Y_test)"
   ]
  },
  {
   "cell_type": "code",
   "execution_count": null,
   "id": "ba0485e6-a803-4f2d-b453-dffba9c15745",
   "metadata": {},
   "outputs": [],
   "source": [
    "yy = yy.reshape(-1, 20)"
   ]
  },
  {
   "cell_type": "code",
   "execution_count": null,
   "id": "e4824993-d116-421d-9779-274ffe6462db",
   "metadata": {},
   "outputs": [],
   "source": [
    "model.evaluate(kk, yy, batch_size=5)"
   ]
  },
  {
   "cell_type": "code",
   "execution_count": null,
   "id": "c6ddf29b-f797-4cea-95fb-b1b4e7c76b37",
   "metadata": {},
   "outputs": [],
   "source": [
    "model.summary()"
   ]
  },
  {
   "cell_type": "code",
   "execution_count": null,
   "id": "ef8a93c4-4142-42cb-85ae-e537b3b31a58",
   "metadata": {},
   "outputs": [],
   "source": [
    "model.summary()"
   ]
  },
  {
   "cell_type": "code",
   "execution_count": null,
   "id": "ab75e745-8132-4c87-bfd2-7d65bbc33ea2",
   "metadata": {},
   "outputs": [],
   "source": []
  },
  {
   "cell_type": "code",
   "execution_count": null,
   "id": "a1f0370f-452b-475f-a833-287efeea0bee",
   "metadata": {},
   "outputs": [],
   "source": []
  },
  {
   "cell_type": "code",
   "execution_count": null,
   "id": "85056f0d-edec-4225-9487-4ca49417dc7e",
   "metadata": {},
   "outputs": [],
   "source": []
  },
  {
   "cell_type": "code",
   "execution_count": null,
   "id": "e7cda9e4-c592-4910-b921-f6012916c190",
   "metadata": {},
   "outputs": [],
   "source": []
  },
  {
   "cell_type": "code",
   "execution_count": 4,
   "id": "f473d6bb-9c2b-49ac-9325-8ffb2bea29b0",
   "metadata": {},
   "outputs": [],
   "source": [
    "import numpy as np\n",
    "import pandas as pd \n",
    "import matplotlib.pyplot as plt\n",
    "import seaborn as sns\n",
    "import os\n",
    "import re\n",
    "import nltk\n",
    "from nltk.corpus import stopwords\n",
    "from nltk.stem.wordnet import WordNetLemmatizer\n",
    "import tensorflow as tf\n",
    "from tensorflow import keras\n",
    "from keras.callbacks import ModelCheckpoint\n",
    "from keras.preprocessing.text import Tokenizer\n",
    "from sklearn.model_selection import train_test_split, cross_val_score\n",
    "from tensorflow.keras.preprocessing.sequence import pad_sequences\n",
    "from tensorflow.keras.utils import to_categorical\n",
    "from sklearn.preprocessing import LabelEncoder\n",
    "\n",
    "# model building imports\n",
    "from keras.layers import Embedding, Flatten, Dense, Dropout\n",
    "from keras.layers import Conv1D, SimpleRNN, Bidirectional, MaxPooling1D, GlobalMaxPool1D, LSTM, GRU, Input\n",
    "from keras.models import Sequential\n",
    "from keras.regularizers import L1L2\n",
    "#from wordcloud import WordCloud, STOPWORDS"
   ]
  },
  {
   "cell_type": "code",
   "execution_count": 2,
   "id": "f7a16d35-156c-4e95-97d1-6094a0972e7d",
   "metadata": {},
   "outputs": [
    {
     "data": {
      "text/plain": [
       "POLITICS          32739\n",
       "WELLNESS          17827\n",
       "ENTERTAINMENT     16058\n",
       "STYLE & BEAUTY    11903\n",
       "TRAVEL             9887\n",
       "PARENTING          8677\n",
       "BUSINESS           7644\n",
       "HEALTHY LIVING     6694\n",
       "THE WORLDPOST      6243\n",
       "FOOD & DRINK       6226\n",
       "COMEDY             5175\n",
       "SPORTS             4884\n",
       "BLACK VOICES       4528\n",
       "SCIENCE & TECH     4260\n",
       "HOME & LIVING      4195\n",
       "PARENTS            3955\n",
       "CULTURE & ARTS     3878\n",
       "DIVORCE            3426\n",
       "CRIME              3405\n",
       "EDUCATION          2148\n",
       "Name: category, dtype: int64"
      ]
     },
     "execution_count": 2,
     "metadata": {},
     "output_type": "execute_result"
    }
   ],
   "source": [
    "df = pd.read_json(\"newsdataset.json\", lines=True)\n",
    "df[\"category\"].value_counts()"
   ]
  },
  {
   "cell_type": "code",
   "execution_count": null,
   "id": "0372cd01-aee6-485d-a592-102f417a7300",
   "metadata": {},
   "outputs": [],
   "source": [
    "stop_words = stopwords.words(\"english\")"
   ]
  },
  {
   "cell_type": "code",
   "execution_count": null,
   "id": "bc5e8d5e",
   "metadata": {},
   "outputs": [],
   "source": [
    "all_words = [w.lower()\n",
    "            for p in df[\"tokenizednews\"]\n",
    "            for w in p\n",
    "            if w.lower() not in stop_words]"
   ]
  },
  {
   "cell_type": "code",
   "execution_count": null,
   "id": "b6401fce-55e3-407e-a89e-ce2602ab041e",
   "metadata": {},
   "outputs": [
    {
     "name": "stdout",
     "output_type": "stream",
     "text": [
      "2918465\n",
      "69704\n"
     ]
    }
   ],
   "source": [
    "print(len(all_words))\n",
    "all_wordsfre = nltk.FreqDist(all_words)\n",
    "print(len(all_wordsfre))"
   ]
  },
  {
   "cell_type": "code",
   "execution_count": null,
   "id": "91f69254-e590-43c5-a1a8-3a3aa992e981",
   "metadata": {},
   "outputs": [],
   "source": [
    "word_features = [w[0] for w in all_wordsfre.most_common()]\n",
    "countvector = CountVectorizer(stop_words=stop_words).fit(word_features)"
   ]
  },
  {
   "cell_type": "code",
   "execution_count": null,
   "id": "9bd6b4f4-e425-44c9-a964-f1c193ae66ea",
   "metadata": {},
   "outputs": [],
   "source": [
    "vocab = list(countvector.vocabulary_.keys())"
   ]
  },
  {
   "cell_type": "code",
   "execution_count": null,
   "id": "a819b452-10de-47b8-9a44-c90711d1f379",
   "metadata": {},
   "outputs": [],
   "source": [
    "numwords = len(vocab)"
   ]
  },
  {
   "cell_type": "code",
   "execution_count": null,
   "id": "50d1ed8f-efd6-4915-9063-3d13ddb7a857",
   "metadata": {},
   "outputs": [],
   "source": [
    "X = df[\"reducedtoken\"]\n",
    "tokenizer = Tokenizer(num_words=numwords, oov_token='<00V>') \n",
    "tokenizer.fit_on_texts(X)\n",
    "train_seq = tokenizer.texts_to_sequences(X)"
   ]
  },
  {
   "cell_type": "code",
   "execution_count": 71,
   "id": "19b7b72f-7ba9-4fa6-ae98-aed5d24aa024",
   "metadata": {},
   "outputs": [],
   "source": [
    "templist = []\n",
    "for i in df[\"tokenizednews\"]:\n",
    "    j = [k for k in i if k in vocab]\n",
    "    templist.append(j)"
   ]
  },
  {
   "cell_type": "code",
   "execution_count": null,
   "id": "38cb4893-1f9d-4421-86a2-00dfc7a6eba8",
   "metadata": {},
   "outputs": [],
   "source": [
    "train_padseq = pad_sequences(train_seq, maxlen=136)"
   ]
  },
  {
   "cell_type": "code",
   "execution_count": null,
   "id": "540d3b1d-a1bc-4279-8c98-27fc461b0aea",
   "metadata": {},
   "outputs": [
    {
     "data": {
      "text/html": [
       "<style>#sk-container-id-1 {color: black;background-color: white;}#sk-container-id-1 pre{padding: 0;}#sk-container-id-1 div.sk-toggleable {background-color: white;}#sk-container-id-1 label.sk-toggleable__label {cursor: pointer;display: block;width: 100%;margin-bottom: 0;padding: 0.3em;box-sizing: border-box;text-align: center;}#sk-container-id-1 label.sk-toggleable__label-arrow:before {content: \"▸\";float: left;margin-right: 0.25em;color: #696969;}#sk-container-id-1 label.sk-toggleable__label-arrow:hover:before {color: black;}#sk-container-id-1 div.sk-estimator:hover label.sk-toggleable__label-arrow:before {color: black;}#sk-container-id-1 div.sk-toggleable__content {max-height: 0;max-width: 0;overflow: hidden;text-align: left;background-color: #f0f8ff;}#sk-container-id-1 div.sk-toggleable__content pre {margin: 0.2em;color: black;border-radius: 0.25em;background-color: #f0f8ff;}#sk-container-id-1 input.sk-toggleable__control:checked~div.sk-toggleable__content {max-height: 200px;max-width: 100%;overflow: auto;}#sk-container-id-1 input.sk-toggleable__control:checked~label.sk-toggleable__label-arrow:before {content: \"▾\";}#sk-container-id-1 div.sk-estimator input.sk-toggleable__control:checked~label.sk-toggleable__label {background-color: #d4ebff;}#sk-container-id-1 div.sk-label input.sk-toggleable__control:checked~label.sk-toggleable__label {background-color: #d4ebff;}#sk-container-id-1 input.sk-hidden--visually {border: 0;clip: rect(1px 1px 1px 1px);clip: rect(1px, 1px, 1px, 1px);height: 1px;margin: -1px;overflow: hidden;padding: 0;position: absolute;width: 1px;}#sk-container-id-1 div.sk-estimator {font-family: monospace;background-color: #f0f8ff;border: 1px dotted black;border-radius: 0.25em;box-sizing: border-box;margin-bottom: 0.5em;}#sk-container-id-1 div.sk-estimator:hover {background-color: #d4ebff;}#sk-container-id-1 div.sk-parallel-item::after {content: \"\";width: 100%;border-bottom: 1px solid gray;flex-grow: 1;}#sk-container-id-1 div.sk-label:hover label.sk-toggleable__label {background-color: #d4ebff;}#sk-container-id-1 div.sk-serial::before {content: \"\";position: absolute;border-left: 1px solid gray;box-sizing: border-box;top: 0;bottom: 0;left: 50%;z-index: 0;}#sk-container-id-1 div.sk-serial {display: flex;flex-direction: column;align-items: center;background-color: white;padding-right: 0.2em;padding-left: 0.2em;position: relative;}#sk-container-id-1 div.sk-item {position: relative;z-index: 1;}#sk-container-id-1 div.sk-parallel {display: flex;align-items: stretch;justify-content: center;background-color: white;position: relative;}#sk-container-id-1 div.sk-item::before, #sk-container-id-1 div.sk-parallel-item::before {content: \"\";position: absolute;border-left: 1px solid gray;box-sizing: border-box;top: 0;bottom: 0;left: 50%;z-index: -1;}#sk-container-id-1 div.sk-parallel-item {display: flex;flex-direction: column;z-index: 1;position: relative;background-color: white;}#sk-container-id-1 div.sk-parallel-item:first-child::after {align-self: flex-end;width: 50%;}#sk-container-id-1 div.sk-parallel-item:last-child::after {align-self: flex-start;width: 50%;}#sk-container-id-1 div.sk-parallel-item:only-child::after {width: 0;}#sk-container-id-1 div.sk-dashed-wrapped {border: 1px dashed gray;margin: 0 0.4em 0.5em 0.4em;box-sizing: border-box;padding-bottom: 0.4em;background-color: white;}#sk-container-id-1 div.sk-label label {font-family: monospace;font-weight: bold;display: inline-block;line-height: 1.2em;}#sk-container-id-1 div.sk-label-container {text-align: center;}#sk-container-id-1 div.sk-container {/* jupyter's `normalize.less` sets `[hidden] { display: none; }` but bootstrap.min.css set `[hidden] { display: none !important; }` so we also need the `!important` here to be able to override the default hidden behavior on the sphinx rendered scikit-learn.org. See: https://github.com/scikit-learn/scikit-learn/issues/21755 */display: inline-block !important;position: relative;}#sk-container-id-1 div.sk-text-repr-fallback {display: none;}</style><div id=\"sk-container-id-1\" class=\"sk-top-container\"><div class=\"sk-text-repr-fallback\"><pre>OneHotEncoder()</pre><b>In a Jupyter environment, please rerun this cell to show the HTML representation or trust the notebook. <br />On GitHub, the HTML representation is unable to render, please try loading this page with nbviewer.org.</b></div><div class=\"sk-container\" hidden><div class=\"sk-item\"><div class=\"sk-estimator sk-toggleable\"><input class=\"sk-toggleable__control sk-hidden--visually\" id=\"sk-estimator-id-1\" type=\"checkbox\" checked><label for=\"sk-estimator-id-1\" class=\"sk-toggleable__label sk-toggleable__label-arrow\">OneHotEncoder</label><div class=\"sk-toggleable__content\"><pre>OneHotEncoder()</pre></div></div></div></div></div>"
      ],
      "text/plain": [
       "OneHotEncoder()"
      ]
     },
     "execution_count": 13,
     "metadata": {},
     "output_type": "execute_result"
    }
   ],
   "source": [
    "encoder = OneHotEncoder()\n",
    "encoder.fit(np.array(df[\"category\"]).reshape(-1,1))"
   ]
  },
  {
   "cell_type": "code",
   "execution_count": null,
   "id": "9fbdf54a-e56d-4e18-92ce-e5e96bf4666d",
   "metadata": {},
   "outputs": [],
   "source": [
    "Y = encoder.transform(np.array(df[\"category\"]).reshape(-1,1)).toarray()"
   ]
  },
  {
   "cell_type": "code",
   "execution_count": 9,
   "id": "08bdf04c-f579-4d72-a0e1-b23d8071a1f3",
   "metadata": {},
   "outputs": [],
   "source": [
    "X = df[\"reducedtoken\"]\n",
    "train_seq = tokenizer.texts_to_sequences(X)\n",
    "train_padseq = pad_sequences(train_seq, maxlen=136)"
   ]
  },
  {
   "cell_type": "code",
   "execution_count": 10,
   "id": "bc3c9af5-a1cb-4aca-893a-1b688d76f633",
   "metadata": {},
   "outputs": [],
   "source": [
    "Y = encoder.transform(np.array(df[\"category\"]).reshape(-1,1)).toarray()"
   ]
  },
  {
   "cell_type": "code",
   "execution_count": 30,
   "id": "35b92a39-8c49-453c-af69-89a42218a389",
   "metadata": {},
   "outputs": [
    {
     "name": "stdout",
     "output_type": "stream",
     "text": [
      "Model: \"sequential\"\n",
      "_________________________________________________________________\n",
      " Layer (type)                Output Shape              Param #   \n",
      "=================================================================\n",
      " embedding (Embedding)       (None, 136, 180)          1440000   \n",
      "                                                                 \n",
      " flatten (Flatten)           (None, 24480)             0         \n",
      "                                                                 \n",
      " dense (Dense)               (None, 1200)              29377200  \n"
     ]
    },
    {
     "name": "stderr",
     "output_type": "stream",
     "text": [
      "2023-04-06 23:19:20.245220: I tensorflow/compiler/xla/stream_executor/cuda/cuda_gpu_executor.cc:981] successful NUMA node read from SysFS had negative value (-1), but there must be at least one NUMA node, so returning NUMA node zero\n",
      "2023-04-06 23:19:20.334974: I tensorflow/compiler/xla/stream_executor/cuda/cuda_gpu_executor.cc:981] successful NUMA node read from SysFS had negative value (-1), but there must be at least one NUMA node, so returning NUMA node zero\n",
      "2023-04-06 23:19:20.335276: I tensorflow/compiler/xla/stream_executor/cuda/cuda_gpu_executor.cc:981] successful NUMA node read from SysFS had negative value (-1), but there must be at least one NUMA node, so returning NUMA node zero\n",
      "2023-04-06 23:19:20.336359: I tensorflow/core/platform/cpu_feature_guard.cc:193] This TensorFlow binary is optimized with oneAPI Deep Neural Network Library (oneDNN) to use the following CPU instructions in performance-critical operations:  AVX2 FMA\n",
      "To enable them in other operations, rebuild TensorFlow with the appropriate compiler flags.\n",
      "2023-04-06 23:19:20.337627: I tensorflow/compiler/xla/stream_executor/cuda/cuda_gpu_executor.cc:981] successful NUMA node read from SysFS had negative value (-1), but there must be at least one NUMA node, so returning NUMA node zero\n",
      "2023-04-06 23:19:20.338313: I tensorflow/compiler/xla/stream_executor/cuda/cuda_gpu_executor.cc:981] successful NUMA node read from SysFS had negative value (-1), but there must be at least one NUMA node, so returning NUMA node zero\n",
      "2023-04-06 23:19:20.338515: I tensorflow/compiler/xla/stream_executor/cuda/cuda_gpu_executor.cc:981] successful NUMA node read from SysFS had negative value (-1), but there must be at least one NUMA node, so returning NUMA node zero\n",
      "2023-04-06 23:19:21.101231: I tensorflow/compiler/xla/stream_executor/cuda/cuda_gpu_executor.cc:981] successful NUMA node read from SysFS had negative value (-1), but there must be at least one NUMA node, so returning NUMA node zero\n",
      "2023-04-06 23:19:21.101673: I tensorflow/compiler/xla/stream_executor/cuda/cuda_gpu_executor.cc:981] successful NUMA node read from SysFS had negative value (-1), but there must be at least one NUMA node, so returning NUMA node zero\n",
      "2023-04-06 23:19:21.101838: I tensorflow/compiler/xla/stream_executor/cuda/cuda_gpu_executor.cc:981] successful NUMA node read from SysFS had negative value (-1), but there must be at least one NUMA node, so returning NUMA node zero\n",
      "2023-04-06 23:19:21.102165: I tensorflow/core/common_runtime/gpu/gpu_device.cc:1613] Created device /job:localhost/replica:0/task:0/device:GPU:0 with 2613 MB memory:  -> device: 0, name: NVIDIA GeForce GTX 1650, pci bus id: 0000:01:00.0, compute capability: 7.5\n"
     ]
    },
    {
     "name": "stdout",
     "output_type": "stream",
     "text": [
      "                                                                 \n",
      " dropout (Dropout)           (None, 1200)              0         \n",
      "                                                                 \n",
      " dense_1 (Dense)             (None, 800)               960800    \n",
      "                                                                 \n",
      " batch_normalization (BatchN  (None, 800)              3200      \n",
      " ormalization)                                                   \n",
      "                                                                 \n",
      " dense_2 (Dense)             (None, 500)               400500    \n",
      "                                                                 \n",
      " dense_3 (Dense)             (None, 300)               150300    \n",
      "                                                                 \n",
      " dropout_1 (Dropout)         (None, 300)               0         \n",
      "                                                                 \n",
      " dense_4 (Dense)             (None, 200)               60200     \n",
      "                                                                 \n",
      " batch_normalization_1 (Batc  (None, 200)              800       \n",
      " hNormalization)                                                 \n",
      "                                                                 \n",
      " dense_5 (Dense)             (None, 20)                4020      \n",
      "                                                                 \n",
      "=================================================================\n",
      "Total params: 32,397,020\n",
      "Trainable params: 32,395,020\n",
      "Non-trainable params: 2,000\n",
      "_________________________________________________________________\n"
     ]
    }
   ],
   "source": [
    "#checkpoint = keras.callbacks.ModelCheckpoint(\"model5.h5\", save_best_only=True)\n",
    "model = keras.Sequential([\n",
    "    keras.layers.Input(shape=136),\n",
    "    keras.layers.Embedding(8000, 180),\n",
    "    keras.layers.Flatten(),\n",
    "    keras.layers.Dense(1200, activation=\"LeakyReLU\"),\n",
    "    keras.layers.Dropout(0.3),\n",
    "    keras.layers.Dense(800, activation=\"LeakyReLU\"),\n",
    "    keras.layers.BatchNormalization(),\n",
    "    keras.layers.Dense(500, activation=\"LeakyReLU\"),\n",
    "    keras.layers.Dense(300, activation=\"LeakyReLU\"),\n",
    "    keras.layers.Dropout(0.3),\n",
    "    keras.layers.Dense(200, activation=\"LeakyReLU\"),\n",
    "    keras.layers.BatchNormalization(),\n",
    "    keras.layers.Dense(20, activation=\"softmax\")\n",
    "])\n",
    "model.compile(optimizer=\"adam\", loss=\"categorical_crossentropy\", metrics=[\"accuracy\"])\n",
    "\n",
    "model.summary()"
   ]
  },
  {
   "cell_type": "code",
   "execution_count": 11,
   "id": "c4547cd8-6893-4cd7-8c7b-12f356774572",
   "metadata": {},
   "outputs": [],
   "source": [
    "padseq_train, padseq_test, y_train, y_test = train_test_split(train_padseq, Y, test_size=0.2)"
   ]
  },
  {
   "cell_type": "code",
   "execution_count": 27,
   "id": "dda0dc32-4596-44c2-9741-5fa560ddfe9f",
   "metadata": {},
   "outputs": [
    {
     "name": "stdout",
     "output_type": "stream",
     "text": [
      "Epoch 1/5\n",
      "5240/5240 [==============================] - 267s 51ms/step - loss: 0.6917 - accuracy: 0.7914 - val_loss: 1.7026 - val_accuracy: 0.6057\n",
      "Epoch 2/5\n",
      "5240/5240 [==============================] - 275s 52ms/step - loss: 0.5943 - accuracy: 0.8187 - val_loss: 4.8275 - val_accuracy: 0.4074\n",
      "Epoch 3/5\n",
      "5240/5240 [==============================] - 273s 52ms/step - loss: 0.5096 - accuracy: 0.8424 - val_loss: 2.3851 - val_accuracy: 0.5710\n",
      "Epoch 4/5\n",
      "5240/5240 [==============================] - 281s 54ms/step - loss: 0.4341 - accuracy: 0.8636 - val_loss: 1.9123 - val_accuracy: 0.6089\n",
      "Epoch 5/5\n",
      "5240/5240 [==============================] - 277s 53ms/step - loss: 0.3720 - accuracy: 0.8827 - val_loss: 2.1302 - val_accuracy: 0.5967\n"
     ]
    },
    {
     "data": {
      "text/plain": [
       "<keras.callbacks.History at 0x7f0a6c1010f0>"
      ]
     },
     "execution_count": 27,
     "metadata": {},
     "output_type": "execute_result"
    }
   ],
   "source": [
    "model.fit(padseq_train, y_train, epochs=5, validation_split=0.2, callbacks=checkpoint, batch_size=20)"
   ]
  },
  {
   "cell_type": "code",
   "execution_count": null,
   "id": "b0ff3af6-0948-491f-9f5d-a2063c308f6d",
   "metadata": {},
   "outputs": [
    {
     "name": "stdout",
     "output_type": "stream",
     "text": [
      "Epoch 1/5\n",
      "3494/3494 [==============================] - 208s 59ms/step - loss: 0.3616 - accuracy: 0.8858 - val_loss: 2.4018 - val_accuracy: 0.5394\n",
      "Epoch 2/5\n",
      "3494/3494 [==============================] - 211s 60ms/step - loss: 0.2782 - accuracy: 0.9113 - val_loss: 2.4440 - val_accuracy: 0.5352\n",
      "Epoch 3/5\n",
      "3494/3494 [==============================] - 213s 61ms/step - loss: 0.2318 - accuracy: 0.9254 - val_loss: 2.8670 - val_accuracy: 0.5286\n",
      "Epoch 4/5\n",
      "3494/3494 [==============================] - 216s 62ms/step - loss: 0.1926 - accuracy: 0.9375 - val_loss: 3.1081 - val_accuracy: 0.5330\n",
      "Epoch 5/5\n",
      "2035/3494 [================>.............] - ETA: 1:26 - loss: 0.1602 - accuracy: 0.9488"
     ]
    }
   ],
   "source": [
    "model.fit(padseq_train, y_train, epochs=5, validation_split=0.2, batch_size=30)"
   ]
  },
  {
   "cell_type": "code",
   "execution_count": 43,
   "id": "c7988d60-06f6-4e8c-825b-845623947c32",
   "metadata": {},
   "outputs": [
    {
     "name": "stdout",
     "output_type": "stream",
     "text": [
      "Model: \"sequential_5\"\n",
      "_________________________________________________________________\n",
      " Layer (type)                Output Shape              Param #   \n",
      "=================================================================\n",
      " embedding_5 (Embedding)     (None, 136, 180)          1440000   \n",
      "                                                                 \n",
      " gru_1 (GRU)                 (None, 400)               698400    \n",
      "                                                                 \n",
      " flatten_4 (Flatten)         (None, 400)               0         \n",
      "                                                                 \n",
      " dropout_6 (Dropout)         (None, 400)               0         \n",
      "                                                                 \n",
      " dense_17 (Dense)            (None, 800)               320800    \n",
      "                                                                 \n",
      " batch_normalization_6 (Batc  (None, 800)              3200      \n",
      " hNormalization)                                                 \n",
      "                                                                 \n",
      " dense_18 (Dense)            (None, 400)               320400    \n",
      "                                                                 \n",
      " dropout_7 (Dropout)         (None, 400)               0         \n",
      "                                                                 \n",
      " dense_19 (Dense)            (None, 300)               120300    \n",
      "                                                                 \n",
      " dense_20 (Dense)            (None, 200)               60200     \n",
      "                                                                 \n",
      " batch_normalization_7 (Batc  (None, 200)              800       \n",
      " hNormalization)                                                 \n",
      "                                                                 \n",
      " dense_21 (Dense)            (None, 20)                4020      \n",
      "                                                                 \n",
      "=================================================================\n",
      "Total params: 2,968,120\n",
      "Trainable params: 2,966,120\n",
      "Non-trainable params: 2,000\n",
      "_________________________________________________________________\n"
     ]
    }
   ],
   "source": [
    "model.summary()"
   ]
  },
  {
   "cell_type": "code",
   "execution_count": 42,
   "id": "131435ec-84d9-4345-afe2-e7868c6629b8",
   "metadata": {},
   "outputs": [],
   "source": [
    "model = keras.models.load_model(\"model2.h5\")"
   ]
  },
  {
   "cell_type": "code",
   "execution_count": 34,
   "id": "0f27b4f5-e1dd-488f-b4cc-e5e6287140fe",
   "metadata": {},
   "outputs": [
    {
     "name": "stdout",
     "output_type": "stream",
     "text": [
      "1024/1024 [==============================] - 3s 3ms/step - loss: 1.9992 - accuracy: 0.5975\n"
     ]
    },
    {
     "data": {
      "text/plain": [
       "[1.9991627931594849, 0.5975390076637268]"
      ]
     },
     "execution_count": 34,
     "metadata": {},
     "output_type": "execute_result"
    }
   ],
   "source": [
    "model.evaluate(padseq_test, y_test)"
   ]
  },
  {
   "cell_type": "code",
   "execution_count": 23,
   "id": "8cf32aef-544b-44fe-abfb-25b0dc76e5ad",
   "metadata": {},
   "outputs": [
    {
     "data": {
      "text/plain": [
       "array([   0,    0,    0,    0,    0,    0,    0,    0,    0,    0,    0,\n",
       "          0,    0,    0,    0,    0,    0,    0,    0,    0,    0,    0,\n",
       "          0,    0,    0,    0,    0,    0,    0,    0,    0,    0,    0,\n",
       "          0,    0,    0,    0,    0,    0,    0,    0,    0,    0,    0,\n",
       "          0,    0,    0,    0,    0,    0,    0,    0,    0,    0,    0,\n",
       "          0,    0,    0,    0,    0,    0,    0,    0,    0,    0,    0,\n",
       "          0,    0,    0,    0,    0,    0,    0,    0,    0,    0,    0,\n",
       "          0,    0,    0,    0,    0,    0,    0,    0,    0,    0,    0,\n",
       "          0,    0,    0,    0,    0,    0,    0,    0,    0,    0,    0,\n",
       "          0,    0,    0,    0,    0,    0,    0,    0,    0,    0,    0,\n",
       "          0,    0,    0,    0,    0,    0,    0,    0,   38, 1216,   97,\n",
       "       1308, 2049,   97, 2049, 1216,   97,   10,  218,   18,  228,   20,\n",
       "        462,   40, 8487, 1906], dtype=int32)"
      ]
     },
     "execution_count": 23,
     "metadata": {},
     "output_type": "execute_result"
    }
   ],
   "source": [
    "padseq_train[1]"
   ]
  },
  {
   "cell_type": "code",
   "execution_count": 21,
   "id": "a80a9ffe-aa7c-4687-b8d8-2511da79e792",
   "metadata": {},
   "outputs": [
    {
     "name": "stdout",
     "output_type": "stream",
     "text": [
      "5/5 [==============================] - 0s 935us/step\n"
     ]
    }
   ],
   "source": [
    "k2 = mod.predict(train_padseq[1])"
   ]
  },
  {
   "cell_type": "code",
   "execution_count": 20,
   "id": "167545cc-8f24-4726-88d3-10a172b7e1a5",
   "metadata": {},
   "outputs": [
    {
     "data": {
      "text/plain": [
       "array([ 0.03533294,  0.00897727, -0.02590462, ...,  0.01746919,\n",
       "       -0.03165217,  0.02695059], dtype=float32)"
      ]
     },
     "execution_count": 20,
     "metadata": {},
     "output_type": "execute_result"
    }
   ],
   "source": [
    "k.flatten()"
   ]
  },
  {
   "cell_type": "code",
   "execution_count": 22,
   "id": "edccbf3e-21bd-448b-8da1-1badaf71bd05",
   "metadata": {},
   "outputs": [
    {
     "data": {
      "text/plain": [
       "array([ 0.03533294,  0.00897727, -0.02590462, ..., -0.04599941,\n",
       "        0.02142418,  0.02448538], dtype=float32)"
      ]
     },
     "execution_count": 22,
     "metadata": {},
     "output_type": "execute_result"
    }
   ],
   "source": [
    "k2.flatten()"
   ]
  },
  {
   "cell_type": "code",
   "execution_count": null,
   "id": "d2acbb96-745d-46d1-8144-81fe7294297b",
   "metadata": {},
   "outputs": [],
   "source": []
  },
  {
   "cell_type": "code",
   "execution_count": 24,
   "id": "c0e2d57f-a2e5-4948-a53f-3f767abd86bd",
   "metadata": {},
   "outputs": [
    {
     "data": {
      "text/plain": [
       "0"
      ]
     },
     "execution_count": 24,
     "metadata": {},
     "output_type": "execute_result"
    }
   ],
   "source": [
    "min([len(i) for i in train_seq])"
   ]
  },
  {
   "cell_type": "code",
   "execution_count": 4,
   "id": "b9cdce10-2b6c-479f-87c3-9a7659a431cc",
   "metadata": {},
   "outputs": [],
   "source": [
    "model.build()"
   ]
  },
  {
   "cell_type": "code",
   "execution_count": 5,
   "id": "95d2e93d-4bbb-4dd7-baba-9c5f3d0e6052",
   "metadata": {},
   "outputs": [
    {
     "name": "stdout",
     "output_type": "stream",
     "text": [
      "Model: \"sequential\"\n",
      "_________________________________________________________________\n",
      " Layer (type)                Output Shape              Param #   \n",
      "=================================================================\n",
      " dense (Dense)               (None, 1000)              8001000   \n",
      "                                                                 \n",
      " dropout (Dropout)           (None, 1000)              0         \n",
      "                                                                 \n",
      " dense_1 (Dense)             (None, 800)               800800    \n",
      "                                                                 \n",
      " dense_2 (Dense)             (None, 400)               320400    \n",
      "                                                                 \n",
      " dropout_1 (Dropout)         (None, 400)               0         \n",
      "                                                                 \n",
      " dense_3 (Dense)             (None, 200)               80200     \n",
      "                                                                 \n",
      " batch_normalization (BatchN  (None, 200)              800       \n",
      " ormalization)                                                   \n",
      "                                                                 \n",
      " dense_4 (Dense)             (None, 20)                4020      \n",
      "                                                                 \n",
      "=================================================================\n",
      "Total params: 9,207,220\n",
      "Trainable params: 9,206,820\n",
      "Non-trainable params: 400\n",
      "_________________________________________________________________\n"
     ]
    }
   ],
   "source": [
    "model.summary()"
   ]
  },
  {
   "cell_type": "code",
   "execution_count": 6,
   "id": "b8c3cbe2-8f6e-4088-8a5c-c94f8c31105b",
   "metadata": {},
   "outputs": [],
   "source": [
    "import pickle\n",
    "with open(\"tokenizer.pickle\", \"rb\") as file: \n",
    "    tokenizer= pickle.load(file)\n",
    "    \n",
    "with open(\"labelencoder.pickle\", \"rb\") as file:\n",
    "    labelencoder = pickle.load(file)"
   ]
  },
  {
   "cell_type": "code",
   "execution_count": 7,
   "id": "d11e49a5-f261-4c98-84ed-4efa68ff3597",
   "metadata": {},
   "outputs": [],
   "source": [
    "with open(\"onehotencoder.pickle\", \"rb\") as file: \n",
    "    encoder = pickle.load(file)"
   ]
  },
  {
   "cell_type": "code",
   "execution_count": 9,
   "id": "7c82f0e4-f069-48ef-9509-48d06958978f",
   "metadata": {},
   "outputs": [
    {
     "data": {
      "text/html": [
       "<style>#sk-container-id-1 {color: black;background-color: white;}#sk-container-id-1 pre{padding: 0;}#sk-container-id-1 div.sk-toggleable {background-color: white;}#sk-container-id-1 label.sk-toggleable__label {cursor: pointer;display: block;width: 100%;margin-bottom: 0;padding: 0.3em;box-sizing: border-box;text-align: center;}#sk-container-id-1 label.sk-toggleable__label-arrow:before {content: \"▸\";float: left;margin-right: 0.25em;color: #696969;}#sk-container-id-1 label.sk-toggleable__label-arrow:hover:before {color: black;}#sk-container-id-1 div.sk-estimator:hover label.sk-toggleable__label-arrow:before {color: black;}#sk-container-id-1 div.sk-toggleable__content {max-height: 0;max-width: 0;overflow: hidden;text-align: left;background-color: #f0f8ff;}#sk-container-id-1 div.sk-toggleable__content pre {margin: 0.2em;color: black;border-radius: 0.25em;background-color: #f0f8ff;}#sk-container-id-1 input.sk-toggleable__control:checked~div.sk-toggleable__content {max-height: 200px;max-width: 100%;overflow: auto;}#sk-container-id-1 input.sk-toggleable__control:checked~label.sk-toggleable__label-arrow:before {content: \"▾\";}#sk-container-id-1 div.sk-estimator input.sk-toggleable__control:checked~label.sk-toggleable__label {background-color: #d4ebff;}#sk-container-id-1 div.sk-label input.sk-toggleable__control:checked~label.sk-toggleable__label {background-color: #d4ebff;}#sk-container-id-1 input.sk-hidden--visually {border: 0;clip: rect(1px 1px 1px 1px);clip: rect(1px, 1px, 1px, 1px);height: 1px;margin: -1px;overflow: hidden;padding: 0;position: absolute;width: 1px;}#sk-container-id-1 div.sk-estimator {font-family: monospace;background-color: #f0f8ff;border: 1px dotted black;border-radius: 0.25em;box-sizing: border-box;margin-bottom: 0.5em;}#sk-container-id-1 div.sk-estimator:hover {background-color: #d4ebff;}#sk-container-id-1 div.sk-parallel-item::after {content: \"\";width: 100%;border-bottom: 1px solid gray;flex-grow: 1;}#sk-container-id-1 div.sk-label:hover label.sk-toggleable__label {background-color: #d4ebff;}#sk-container-id-1 div.sk-serial::before {content: \"\";position: absolute;border-left: 1px solid gray;box-sizing: border-box;top: 0;bottom: 0;left: 50%;z-index: 0;}#sk-container-id-1 div.sk-serial {display: flex;flex-direction: column;align-items: center;background-color: white;padding-right: 0.2em;padding-left: 0.2em;position: relative;}#sk-container-id-1 div.sk-item {position: relative;z-index: 1;}#sk-container-id-1 div.sk-parallel {display: flex;align-items: stretch;justify-content: center;background-color: white;position: relative;}#sk-container-id-1 div.sk-item::before, #sk-container-id-1 div.sk-parallel-item::before {content: \"\";position: absolute;border-left: 1px solid gray;box-sizing: border-box;top: 0;bottom: 0;left: 50%;z-index: -1;}#sk-container-id-1 div.sk-parallel-item {display: flex;flex-direction: column;z-index: 1;position: relative;background-color: white;}#sk-container-id-1 div.sk-parallel-item:first-child::after {align-self: flex-end;width: 50%;}#sk-container-id-1 div.sk-parallel-item:last-child::after {align-self: flex-start;width: 50%;}#sk-container-id-1 div.sk-parallel-item:only-child::after {width: 0;}#sk-container-id-1 div.sk-dashed-wrapped {border: 1px dashed gray;margin: 0 0.4em 0.5em 0.4em;box-sizing: border-box;padding-bottom: 0.4em;background-color: white;}#sk-container-id-1 div.sk-label label {font-family: monospace;font-weight: bold;display: inline-block;line-height: 1.2em;}#sk-container-id-1 div.sk-label-container {text-align: center;}#sk-container-id-1 div.sk-container {/* jupyter's `normalize.less` sets `[hidden] { display: none; }` but bootstrap.min.css set `[hidden] { display: none !important; }` so we also need the `!important` here to be able to override the default hidden behavior on the sphinx rendered scikit-learn.org. See: https://github.com/scikit-learn/scikit-learn/issues/21755 */display: inline-block !important;position: relative;}#sk-container-id-1 div.sk-text-repr-fallback {display: none;}</style><div id=\"sk-container-id-1\" class=\"sk-top-container\"><div class=\"sk-text-repr-fallback\"><pre>OneHotEncoder()</pre><b>In a Jupyter environment, please rerun this cell to show the HTML representation or trust the notebook. <br />On GitHub, the HTML representation is unable to render, please try loading this page with nbviewer.org.</b></div><div class=\"sk-container\" hidden><div class=\"sk-item\"><div class=\"sk-estimator sk-toggleable\"><input class=\"sk-toggleable__control sk-hidden--visually\" id=\"sk-estimator-id-1\" type=\"checkbox\" checked><label for=\"sk-estimator-id-1\" class=\"sk-toggleable__label sk-toggleable__label-arrow\">OneHotEncoder</label><div class=\"sk-toggleable__content\"><pre>OneHotEncoder()</pre></div></div></div></div></div>"
      ],
      "text/plain": [
       "OneHotEncoder()"
      ]
     },
     "execution_count": 9,
     "metadata": {},
     "output_type": "execute_result"
    }
   ],
   "source": [
    "encoder"
   ]
  },
  {
   "cell_type": "code",
   "execution_count": 12,
   "id": "968a49b5-9d1b-4e74-a307-d7e4a78325d9",
   "metadata": {},
   "outputs": [
    {
     "name": "stdout",
     "output_type": "stream",
     "text": [
      "Model: \"sequential_7\"\n",
      "_________________________________________________________________\n",
      " Layer (type)                Output Shape              Param #   \n",
      "=================================================================\n",
      " embedding_8 (Embedding)     (None, 136, 200)          1600000   \n",
      "                                                                 \n",
      " conv1d_5 (Conv1D)           (None, 134, 128)          76928     \n",
      "                                                                 \n",
      " flatten_7 (Flatten)         (None, 17152)             0         \n",
      "                                                                 \n",
      " dense_21 (Dense)            (None, 300)               5145900   \n",
      "                                                                 \n",
      " dense_22 (Dense)            (None, 200)               60200     \n",
      "                                                                 \n",
      " batch_normalization_7 (Batc  (None, 200)              800       \n",
      " hNormalization)                                                 \n",
      "                                                                 \n",
      " dense_23 (Dense)            (None, 20)                4020      \n",
      "                                                                 \n",
      "=================================================================\n",
      "Total params: 6,887,848\n",
      "Trainable params: 6,887,448\n",
      "Non-trainable params: 400\n",
      "_________________________________________________________________\n"
     ]
    }
   ],
   "source": [
    "#checkpoint = keras.callbacks.ModelCheckpoint(\"model5.h5\", save_best_only=True)\n",
    "model = keras.Sequential([\n",
    "    keras.layers.Input(shape=136),\n",
    "    keras.layers.Embedding(8000, 200),\n",
    "    \n",
    "    #keras.layers.Reshape(target_shape=(-1, 1)),\n",
    "    keras.layers.Conv1D(128, 3),\n",
    "    keras.layers.Flatten(),\n",
    "    keras.layers.Dense(300, activation=\"LeakyReLU\"),\n",
    "    keras.layers.Dense(200, activation=\"LeakyReLU\"),\n",
    "    keras.layers.BatchNormalization(),\n",
    "    keras.layers.Dense(20, activation=\"softmax\")\n",
    "])\n",
    "model.compile(optimizer=\"adam\", loss=\"categorical_crossentropy\", metrics=[\"accuracy\"])\n",
    "\n",
    "model.summary()"
   ]
  },
  {
   "cell_type": "code",
   "execution_count": 11,
   "id": "099c7a90-5d1c-40d1-ba50-4a37c3a89f42",
   "metadata": {},
   "outputs": [],
   "source": [
    "import datetime\n",
    "log_dir = \"logs/fit/\" + datetime.datetime.now().strftime(\"%Y%m%d-%H%M%S\")\n",
    "tensorboard_callback = tf.keras.callbacks.TensorBoard(log_dir=log_dir, histogram_freq=1)"
   ]
  },
  {
   "cell_type": "code",
   "execution_count": 11,
   "id": "dce84cd2-ee88-4b31-bf6b-973d0e2d8680",
   "metadata": {},
   "outputs": [
    {
     "ename": "NameError",
     "evalue": "name 'model' is not defined",
     "output_type": "error",
     "traceback": [
      "\u001b[0;31m---------------------------------------------------------------------------\u001b[0m",
      "\u001b[0;31mNameError\u001b[0m                                 Traceback (most recent call last)",
      "\u001b[0;32m/tmp/ipykernel_5311/3971016299.py\u001b[0m in \u001b[0;36m<module>\u001b[0;34m\u001b[0m\n\u001b[0;32m----> 1\u001b[0;31m \u001b[0mmodel\u001b[0m\u001b[0;34m.\u001b[0m\u001b[0mfit\u001b[0m\u001b[0;34m(\u001b[0m\u001b[0mpadseq_train\u001b[0m\u001b[0;34m,\u001b[0m \u001b[0my_train\u001b[0m\u001b[0;34m,\u001b[0m \u001b[0mepochs\u001b[0m\u001b[0;34m=\u001b[0m\u001b[0;36m5\u001b[0m\u001b[0;34m,\u001b[0m \u001b[0mvalidation_split\u001b[0m\u001b[0;34m=\u001b[0m\u001b[0;36m0.2\u001b[0m\u001b[0;34m,\u001b[0m \u001b[0mcallbacks\u001b[0m\u001b[0;34m=\u001b[0m\u001b[0;34m[\u001b[0m\u001b[0mtensorboard_callback\u001b[0m\u001b[0;34m]\u001b[0m\u001b[0;34m,\u001b[0m \u001b[0mbatch_size\u001b[0m\u001b[0;34m=\u001b[0m\u001b[0;36m100\u001b[0m\u001b[0;34m)\u001b[0m\u001b[0;34m\u001b[0m\u001b[0;34m\u001b[0m\u001b[0m\n\u001b[0m",
      "\u001b[0;31mNameError\u001b[0m: name 'model' is not defined"
     ]
    }
   ],
   "source": [
    "model.fit(padseq_train, y_train, epochs=5, validation_split=0.2, callbacks=[tensorboard_callback], batch_size=100)"
   ]
  },
  {
   "cell_type": "code",
   "execution_count": 19,
   "id": "f5c509cc-6883-43d7-8c6c-e256e60e64db",
   "metadata": {},
   "outputs": [],
   "source": [
    "import torch"
   ]
  },
  {
   "cell_type": "code",
   "execution_count": 24,
   "id": "128ce32e-33b9-48cc-ac84-a23bd1eeba21",
   "metadata": {},
   "outputs": [],
   "source": [
    "device = torch.device(\"cuda:0\" if torch.cuda.is_available() else \"cpu\")"
   ]
  },
  {
   "cell_type": "code",
   "execution_count": 25,
   "id": "9bde5206-360d-4e8f-afec-00d43496c83c",
   "metadata": {},
   "outputs": [
    {
     "data": {
      "text/plain": [
       "device(type='cuda', index=0)"
      ]
     },
     "execution_count": 25,
     "metadata": {},
     "output_type": "execute_result"
    }
   ],
   "source": [
    "device"
   ]
  },
  {
   "cell_type": "code",
   "execution_count": 30,
   "id": "023c57ff-250f-4d3f-9e4c-1b458091544d",
   "metadata": {},
   "outputs": [],
   "source": [
    "ta = torch.tensor(np.ones((2,2)), dtype=float).cuda()"
   ]
  },
  {
   "cell_type": "code",
   "execution_count": 31,
   "id": "bd26b37a-fdc2-4283-919a-13684a9619ce",
   "metadata": {},
   "outputs": [
    {
     "data": {
      "text/plain": [
       "tensor([[1., 1.],\n",
       "        [1., 1.]], device='cuda:0', dtype=torch.float64)"
      ]
     },
     "execution_count": 31,
     "metadata": {},
     "output_type": "execute_result"
    }
   ],
   "source": [
    "ta"
   ]
  },
  {
   "cell_type": "code",
   "execution_count": 15,
   "id": "0b13353f-4123-445b-b264-3497bdd4835c",
   "metadata": {},
   "outputs": [],
   "source": [
    "convlayers = [0, 1, 2]\n",
    "numfilters = [64, 128, 256]\n",
    "denselayers = [1, 2, 3]\n",
    "densesizes = [256, 512]"
   ]
  },
  {
   "cell_type": "code",
   "execution_count": 23,
   "id": "6f49e1bf-8866-4ef0-9056-1e0b5d3111e2",
   "metadata": {},
   "outputs": [],
   "source": [
    "for convlayer in convlayers:\n",
    "    for numfilter in numfilters:\n",
    "        for denselayer in denselayers:\n",
    "            for densesize in densesizes:\n",
    "                log_dir = f\"logs/{convlayer}-conv{numfilter}-{denselayer}-dense{densesize}-{int(time.time())}\"\n",
    "                model = keras.Sequential()\n",
    "                model.add(keras.layers.Input(shape=136))\n",
    "                model.add(keras.layers.Embedding(8000, 200))\n",
    "                \n",
    "                for i in range(convlayer):\n",
    "                    model.add(keras.layers.Conv1D(numfilter, 3, activation=\"relu\"))\n",
    "                \n",
    "                model.add(keras.layers.Flatten())\n",
    "                \n",
    "                for i in range(denselayer):\n",
    "                    model.add(keras.layers.Dense(densesize, activation=\"LeakyReLU\"))\n",
    "                    if i%2==0:\n",
    "                        model.add(keras.layers.ActivityRegularization(l2=0.01))\n",
    "                        \n",
    "                model.add(keras.layers.BatchNormalization())\n",
    "                model.add(keras.layers.Dense(20, activation=\"softmax\"))\n",
    "                model.compile(optimizer=\"adam\", loss=\"categorical_crossentropy\", metrics=[\"accuracy\"])\n",
    "                \n",
    "                tensorboard_callback = tf.keras.callbacks.TensorBoard(log_dir=log_dir)\n",
    "                \n",
    "                model.fit(padseq_train, y_train, epochs=5, validation_split=0.2, callbacks=[tensorboard_callback], batch_size=200)\n",
    "\n",
    "                "
   ]
  },
  {
   "cell_type": "code",
   "execution_count": 21,
   "id": "deda8bdb-86c8-4bdf-8f6a-cf5926632fda",
   "metadata": {},
   "outputs": [
    {
     "name": "stdout",
     "output_type": "stream",
     "text": [
      "logs/0-conv64-1-dense256-1680593236\n",
      "logs/0-conv64-1-dense512-1680593236\n",
      "logs/0-conv64-2-dense256-1680593236\n",
      "logs/0-conv64-2-dense512-1680593236\n",
      "logs/0-conv64-3-dense256-1680593236\n",
      "logs/0-conv64-3-dense512-1680593236\n",
      "logs/0-conv128-1-dense256-1680593236\n",
      "logs/0-conv128-1-dense512-1680593236\n",
      "logs/0-conv128-2-dense256-1680593236\n",
      "logs/0-conv128-2-dense512-1680593236\n",
      "logs/0-conv128-3-dense256-1680593236\n",
      "logs/0-conv128-3-dense512-1680593236\n",
      "logs/0-conv256-1-dense256-1680593236\n",
      "logs/0-conv256-1-dense512-1680593236\n",
      "logs/0-conv256-2-dense256-1680593236\n",
      "logs/0-conv256-2-dense512-1680593236\n",
      "logs/0-conv256-3-dense256-1680593236\n",
      "logs/0-conv256-3-dense512-1680593236\n",
      "logs/1-conv64-1-dense256-1680593236\n",
      "logs/1-conv64-1-dense512-1680593236\n",
      "logs/1-conv64-2-dense256-1680593236\n",
      "logs/1-conv64-2-dense512-1680593236\n",
      "logs/1-conv64-3-dense256-1680593236\n",
      "logs/1-conv64-3-dense512-1680593236\n",
      "logs/1-conv128-1-dense256-1680593236\n",
      "logs/1-conv128-1-dense512-1680593236\n",
      "logs/1-conv128-2-dense256-1680593236\n",
      "logs/1-conv128-2-dense512-1680593236\n",
      "logs/1-conv128-3-dense256-1680593236\n",
      "logs/1-conv128-3-dense512-1680593236\n",
      "logs/1-conv256-1-dense256-1680593236\n",
      "logs/1-conv256-1-dense512-1680593236\n",
      "logs/1-conv256-2-dense256-1680593236\n",
      "logs/1-conv256-2-dense512-1680593236\n",
      "logs/1-conv256-3-dense256-1680593236\n",
      "logs/1-conv256-3-dense512-1680593236\n",
      "logs/2-conv64-1-dense256-1680593236\n",
      "logs/2-conv64-1-dense512-1680593236\n",
      "logs/2-conv64-2-dense256-1680593236\n",
      "logs/2-conv64-2-dense512-1680593236\n",
      "logs/2-conv64-3-dense256-1680593236\n",
      "logs/2-conv64-3-dense512-1680593236\n",
      "logs/2-conv128-1-dense256-1680593236\n",
      "logs/2-conv128-1-dense512-1680593236\n",
      "logs/2-conv128-2-dense256-1680593236\n",
      "logs/2-conv128-2-dense512-1680593236\n",
      "logs/2-conv128-3-dense256-1680593236\n",
      "logs/2-conv128-3-dense512-1680593236\n",
      "logs/2-conv256-1-dense256-1680593236\n",
      "logs/2-conv256-1-dense512-1680593236\n",
      "logs/2-conv256-2-dense256-1680593236\n",
      "logs/2-conv256-2-dense512-1680593236\n",
      "logs/2-conv256-3-dense256-1680593236\n",
      "logs/2-conv256-3-dense512-1680593236\n"
     ]
    }
   ],
   "source": [
    "for convlayer in convlayers:\n",
    "    for numfilter in numfilters:\n",
    "        for denselayer in denselayers:\n",
    "            for densesize in densesizes:\n",
    "                log_dir = f\"logs/{convlayer}-conv{numfilter}-{denselayer}-dense{densesize}-{int(time.time())}\"\n",
    "                print(log_dir)"
   ]
  },
  {
   "cell_type": "code",
   "execution_count": 17,
   "id": "d07648bd-1f01-46c9-b338-15b8b8935a74",
   "metadata": {},
   "outputs": [],
   "source": [
    "import time"
   ]
  },
  {
   "cell_type": "code",
   "execution_count": 4,
   "id": "51696f44-db0f-4462-a57b-34d4390bab3e",
   "metadata": {},
   "outputs": [],
   "source": [
    "df2 = pd.DataFrame(df[\"category\"].value_counts())"
   ]
  },
  {
   "cell_type": "code",
   "execution_count": 13,
   "id": "83c53398-e910-411b-bfb7-87ef15b70c6f",
   "metadata": {},
   "outputs": [],
   "source": [
    "df2.sort_values(by=\"index\", inplace=True)"
   ]
  },
  {
   "cell_type": "code",
   "execution_count": 19,
   "id": "b1e2aa4f-f1bd-4e02-a20c-1831e43cd060",
   "metadata": {},
   "outputs": [],
   "source": [
    "df2.drop(columns=\"level_0\", inplace=True)"
   ]
  },
  {
   "cell_type": "code",
   "execution_count": 21,
   "id": "794dc954-67b4-4db8-906f-f86cf1914c7d",
   "metadata": {},
   "outputs": [
    {
     "data": {
      "text/plain": [
       "163752"
      ]
     },
     "execution_count": 21,
     "metadata": {},
     "output_type": "execute_result"
    }
   ],
   "source": [
    "total = df.shape[0]\n",
    "total"
   ]
  },
  {
   "cell_type": "code",
   "execution_count": 23,
   "id": "a36d3b8f-a98a-459e-b5e9-7f9f6cb4b5aa",
   "metadata": {},
   "outputs": [],
   "source": [
    "lst = [(1/i)*(total/20) for i in df2[\"category\"]]"
   ]
  },
  {
   "cell_type": "code",
   "execution_count": 24,
   "id": "5ffdfc64-6b92-4bac-9748-3e65022ed8f7",
   "metadata": {},
   "outputs": [
    {
     "data": {
      "text/html": [
       "<div>\n",
       "<style scoped>\n",
       "    .dataframe tbody tr th:only-of-type {\n",
       "        vertical-align: middle;\n",
       "    }\n",
       "\n",
       "    .dataframe tbody tr th {\n",
       "        vertical-align: top;\n",
       "    }\n",
       "\n",
       "    .dataframe thead th {\n",
       "        text-align: right;\n",
       "    }\n",
       "</style>\n",
       "<table border=\"1\" class=\"dataframe\">\n",
       "  <thead>\n",
       "    <tr style=\"text-align: right;\">\n",
       "      <th></th>\n",
       "      <th>index</th>\n",
       "      <th>category</th>\n",
       "      <th>coeff</th>\n",
       "    </tr>\n",
       "  </thead>\n",
       "  <tbody>\n",
       "    <tr>\n",
       "      <th>0</th>\n",
       "      <td>BLACK VOICES</td>\n",
       "      <td>4528</td>\n",
       "      <td>1.808216</td>\n",
       "    </tr>\n",
       "    <tr>\n",
       "      <th>1</th>\n",
       "      <td>BUSINESS</td>\n",
       "      <td>7644</td>\n",
       "      <td>1.071115</td>\n",
       "    </tr>\n",
       "    <tr>\n",
       "      <th>2</th>\n",
       "      <td>COMEDY</td>\n",
       "      <td>5175</td>\n",
       "      <td>1.582145</td>\n",
       "    </tr>\n",
       "    <tr>\n",
       "      <th>3</th>\n",
       "      <td>CRIME</td>\n",
       "      <td>3405</td>\n",
       "      <td>2.404581</td>\n",
       "    </tr>\n",
       "    <tr>\n",
       "      <th>4</th>\n",
       "      <td>CULTURE &amp; ARTS</td>\n",
       "      <td>3878</td>\n",
       "      <td>2.111294</td>\n",
       "    </tr>\n",
       "    <tr>\n",
       "      <th>5</th>\n",
       "      <td>DIVORCE</td>\n",
       "      <td>3426</td>\n",
       "      <td>2.389842</td>\n",
       "    </tr>\n",
       "    <tr>\n",
       "      <th>6</th>\n",
       "      <td>EDUCATION</td>\n",
       "      <td>2148</td>\n",
       "      <td>3.811732</td>\n",
       "    </tr>\n",
       "    <tr>\n",
       "      <th>7</th>\n",
       "      <td>ENTERTAINMENT</td>\n",
       "      <td>16058</td>\n",
       "      <td>0.509877</td>\n",
       "    </tr>\n",
       "    <tr>\n",
       "      <th>8</th>\n",
       "      <td>FOOD &amp; DRINK</td>\n",
       "      <td>6226</td>\n",
       "      <td>1.315066</td>\n",
       "    </tr>\n",
       "    <tr>\n",
       "      <th>9</th>\n",
       "      <td>HEALTHY LIVING</td>\n",
       "      <td>6694</td>\n",
       "      <td>1.223125</td>\n",
       "    </tr>\n",
       "    <tr>\n",
       "      <th>10</th>\n",
       "      <td>HOME &amp; LIVING</td>\n",
       "      <td>4195</td>\n",
       "      <td>1.951752</td>\n",
       "    </tr>\n",
       "    <tr>\n",
       "      <th>11</th>\n",
       "      <td>PARENTING</td>\n",
       "      <td>8677</td>\n",
       "      <td>0.943598</td>\n",
       "    </tr>\n",
       "    <tr>\n",
       "      <th>12</th>\n",
       "      <td>PARENTS</td>\n",
       "      <td>3955</td>\n",
       "      <td>2.070190</td>\n",
       "    </tr>\n",
       "    <tr>\n",
       "      <th>13</th>\n",
       "      <td>POLITICS</td>\n",
       "      <td>32739</td>\n",
       "      <td>0.250087</td>\n",
       "    </tr>\n",
       "    <tr>\n",
       "      <th>14</th>\n",
       "      <td>SCIENCE &amp; TECH</td>\n",
       "      <td>4260</td>\n",
       "      <td>1.921972</td>\n",
       "    </tr>\n",
       "    <tr>\n",
       "      <th>15</th>\n",
       "      <td>SPORTS</td>\n",
       "      <td>4884</td>\n",
       "      <td>1.676413</td>\n",
       "    </tr>\n",
       "    <tr>\n",
       "      <th>16</th>\n",
       "      <td>STYLE &amp; BEAUTY</td>\n",
       "      <td>11903</td>\n",
       "      <td>0.687860</td>\n",
       "    </tr>\n",
       "    <tr>\n",
       "      <th>17</th>\n",
       "      <td>THE WORLDPOST</td>\n",
       "      <td>6243</td>\n",
       "      <td>1.311485</td>\n",
       "    </tr>\n",
       "    <tr>\n",
       "      <th>18</th>\n",
       "      <td>TRAVEL</td>\n",
       "      <td>9887</td>\n",
       "      <td>0.828118</td>\n",
       "    </tr>\n",
       "    <tr>\n",
       "      <th>19</th>\n",
       "      <td>WELLNESS</td>\n",
       "      <td>17827</td>\n",
       "      <td>0.459281</td>\n",
       "    </tr>\n",
       "  </tbody>\n",
       "</table>\n",
       "</div>"
      ],
      "text/plain": [
       "             index  category     coeff\n",
       "0     BLACK VOICES      4528  1.808216\n",
       "1         BUSINESS      7644  1.071115\n",
       "2           COMEDY      5175  1.582145\n",
       "3            CRIME      3405  2.404581\n",
       "4   CULTURE & ARTS      3878  2.111294\n",
       "5          DIVORCE      3426  2.389842\n",
       "6        EDUCATION      2148  3.811732\n",
       "7    ENTERTAINMENT     16058  0.509877\n",
       "8     FOOD & DRINK      6226  1.315066\n",
       "9   HEALTHY LIVING      6694  1.223125\n",
       "10   HOME & LIVING      4195  1.951752\n",
       "11       PARENTING      8677  0.943598\n",
       "12         PARENTS      3955  2.070190\n",
       "13        POLITICS     32739  0.250087\n",
       "14  SCIENCE & TECH      4260  1.921972\n",
       "15          SPORTS      4884  1.676413\n",
       "16  STYLE & BEAUTY     11903  0.687860\n",
       "17   THE WORLDPOST      6243  1.311485\n",
       "18          TRAVEL      9887  0.828118\n",
       "19        WELLNESS     17827  0.459281"
      ]
     },
     "execution_count": 24,
     "metadata": {},
     "output_type": "execute_result"
    }
   ],
   "source": [
    "df2[\"coeff\"] = lst\n",
    "df2"
   ]
  },
  {
   "cell_type": "code",
   "execution_count": 27,
   "id": "f970ab11-11b9-410c-b945-d9c9a71851af",
   "metadata": {},
   "outputs": [],
   "source": [
    "weight_class = {}\n",
    "count = 0\n",
    "for i in df2[\"coeff\"]:\n",
    "    weight_class[count] = i\n",
    "    count+=1"
   ]
  },
  {
   "cell_type": "code",
   "execution_count": 28,
   "id": "b8793462-a8bd-4b8c-83e5-b84372884bd0",
   "metadata": {},
   "outputs": [
    {
     "data": {
      "text/plain": [
       "{0: 1.8082155477031803,\n",
       " 1: 1.0711145996860283,\n",
       " 2: 1.5821449275362318,\n",
       " 3: 2.404581497797357,\n",
       " 4: 2.1112944816915937,\n",
       " 5: 2.3898423817863397,\n",
       " 6: 3.8117318435754193,\n",
       " 7: 0.5098766969734712,\n",
       " 8: 1.3150658528750403,\n",
       " 9: 1.223125186734389,\n",
       " 10: 1.9517520858164483,\n",
       " 11: 0.9435980177480697,\n",
       " 12: 2.070189633375474,\n",
       " 13: 0.25008705213964993,\n",
       " 14: 1.9219718309859155,\n",
       " 15: 1.6764127764127765,\n",
       " 16: 0.6878602033100899,\n",
       " 17: 1.3114848630466123,\n",
       " 18: 0.8281177303529889,\n",
       " 19: 0.45928086610198016}"
      ]
     },
     "execution_count": 28,
     "metadata": {},
     "output_type": "execute_result"
    }
   ],
   "source": [
    "weight_class"
   ]
  },
  {
   "cell_type": "code",
   "execution_count": 33,
   "id": "144d3371-6c7c-4637-b941-2ed2eb56565e",
   "metadata": {},
   "outputs": [
    {
     "data": {
      "text/plain": [
       "[array(['BLACK VOICES', 'BUSINESS', 'COMEDY', 'CRIME', 'CULTURE & ARTS',\n",
       "        'DIVORCE', 'EDUCATION', 'ENTERTAINMENT', 'FOOD & DRINK',\n",
       "        'HEALTHY LIVING', 'HOME & LIVING', 'PARENTING', 'PARENTS',\n",
       "        'POLITICS', 'SCIENCE & TECH', 'SPORTS', 'STYLE & BEAUTY',\n",
       "        'THE WORLDPOST', 'TRAVEL', 'WELLNESS'], dtype=object)]"
      ]
     },
     "execution_count": 33,
     "metadata": {},
     "output_type": "execute_result"
    }
   ],
   "source": [
    "encoder.categories_"
   ]
  },
  {
   "cell_type": "code",
   "execution_count": 5,
   "id": "7a3c28e8-8c30-4500-9c78-aa7e6641a379",
   "metadata": {},
   "outputs": [
    {
     "name": "stderr",
     "output_type": "stream",
     "text": [
      "2023-04-17 22:35:24.391341: I tensorflow/core/platform/cpu_feature_guard.cc:193] This TensorFlow binary is optimized with oneAPI Deep Neural Network Library (oneDNN) to use the following CPU instructions in performance-critical operations:  AVX2 FMA\n",
      "To enable them in other operations, rebuild TensorFlow with the appropriate compiler flags.\n",
      "2023-04-17 22:35:24.392419: I tensorflow/compiler/xla/stream_executor/cuda/cuda_gpu_executor.cc:981] successful NUMA node read from SysFS had negative value (-1), but there must be at least one NUMA node, so returning NUMA node zero\n",
      "2023-04-17 22:35:24.392862: I tensorflow/compiler/xla/stream_executor/cuda/cuda_gpu_executor.cc:981] successful NUMA node read from SysFS had negative value (-1), but there must be at least one NUMA node, so returning NUMA node zero\n",
      "2023-04-17 22:35:24.393168: I tensorflow/compiler/xla/stream_executor/cuda/cuda_gpu_executor.cc:981] successful NUMA node read from SysFS had negative value (-1), but there must be at least one NUMA node, so returning NUMA node zero\n",
      "2023-04-17 22:35:24.393684: I tensorflow/compiler/xla/stream_executor/cuda/cuda_gpu_executor.cc:981] successful NUMA node read from SysFS had negative value (-1), but there must be at least one NUMA node, so returning NUMA node zero\n",
      "2023-04-17 22:35:24.394004: I tensorflow/compiler/xla/stream_executor/cuda/cuda_gpu_executor.cc:981] successful NUMA node read from SysFS had negative value (-1), but there must be at least one NUMA node, so returning NUMA node zero\n",
      "2023-04-17 22:35:24.394308: I tensorflow/compiler/xla/stream_executor/cuda/cuda_gpu_executor.cc:981] successful NUMA node read from SysFS had negative value (-1), but there must be at least one NUMA node, so returning NUMA node zero\n",
      "2023-04-17 22:35:24.394541: I tensorflow/core/common_runtime/gpu/gpu_device.cc:1613] Created device /job:localhost/replica:0/task:0/device:GPU:0 with 2221 MB memory:  -> device: 0, name: NVIDIA GeForce GTX 1650, pci bus id: 0000:01:00.0, compute capability: 7.5\n"
     ]
    }
   ],
   "source": [
    "model = keras.models.load_model(\"3-conv128-3-dense256-1680808526-weighted.h5\")"
   ]
  },
  {
   "cell_type": "code",
   "execution_count": 6,
   "id": "65e0b933-bfc2-4a51-942c-ea8df56a24a7",
   "metadata": {},
   "outputs": [
    {
     "name": "stdout",
     "output_type": "stream",
     "text": [
      "Model: \"sequential\"\n",
      "_________________________________________________________________\n",
      " Layer (type)                Output Shape              Param #   \n",
      "=================================================================\n",
      " embedding (Embedding)       (None, 136, 200)          1600000   \n",
      "                                                                 \n",
      " conv1d (Conv1D)             (None, 134, 128)          76928     \n",
      "                                                                 \n",
      " conv1d_1 (Conv1D)           (None, 132, 128)          49280     \n",
      "                                                                 \n",
      " conv1d_2 (Conv1D)           (None, 130, 128)          49280     \n",
      "                                                                 \n",
      " flatten (Flatten)           (None, 16640)             0         \n",
      "                                                                 \n",
      " dense (Dense)               (None, 256)               4260096   \n",
      "                                                                 \n",
      " activity_regularization (Ac  (None, 256)              0         \n",
      " tivityRegularization)                                           \n",
      "                                                                 \n",
      " dense_1 (Dense)             (None, 256)               65792     \n",
      "                                                                 \n",
      " dense_2 (Dense)             (None, 256)               65792     \n",
      "                                                                 \n",
      " activity_regularization_1 (  (None, 256)              0         \n",
      " ActivityRegularization)                                         \n",
      "                                                                 \n",
      " batch_normalization (BatchN  (None, 256)              1024      \n",
      " ormalization)                                                   \n",
      "                                                                 \n",
      " dense_3 (Dense)             (None, 20)                5140      \n",
      "                                                                 \n",
      "=================================================================\n",
      "Total params: 6,173,332\n",
      "Trainable params: 6,172,820\n",
      "Non-trainable params: 512\n",
      "_________________________________________________________________\n"
     ]
    }
   ],
   "source": [
    "model.summary()"
   ]
  },
  {
   "cell_type": "code",
   "execution_count": 5,
   "id": "b9c1d7e3-ea62-4b8f-a192-a00e0eaf3f5d",
   "metadata": {},
   "outputs": [
    {
     "name": "stderr",
     "output_type": "stream",
     "text": [
      "2023-04-18 20:28:08.661764: I tensorflow/core/platform/cpu_feature_guard.cc:193] This TensorFlow binary is optimized with oneAPI Deep Neural Network Library (oneDNN) to use the following CPU instructions in performance-critical operations:  AVX2 FMA\n",
      "To enable them in other operations, rebuild TensorFlow with the appropriate compiler flags.\n",
      "2023-04-18 20:28:08.662703: I tensorflow/compiler/xla/stream_executor/cuda/cuda_gpu_executor.cc:981] successful NUMA node read from SysFS had negative value (-1), but there must be at least one NUMA node, so returning NUMA node zero\n",
      "2023-04-18 20:28:08.663055: I tensorflow/compiler/xla/stream_executor/cuda/cuda_gpu_executor.cc:981] successful NUMA node read from SysFS had negative value (-1), but there must be at least one NUMA node, so returning NUMA node zero\n",
      "2023-04-18 20:28:08.663234: I tensorflow/compiler/xla/stream_executor/cuda/cuda_gpu_executor.cc:981] successful NUMA node read from SysFS had negative value (-1), but there must be at least one NUMA node, so returning NUMA node zero\n",
      "2023-04-18 20:28:08.663983: I tensorflow/compiler/xla/stream_executor/cuda/cuda_gpu_executor.cc:981] successful NUMA node read from SysFS had negative value (-1), but there must be at least one NUMA node, so returning NUMA node zero\n",
      "2023-04-18 20:28:08.664443: I tensorflow/compiler/xla/stream_executor/cuda/cuda_gpu_executor.cc:981] successful NUMA node read from SysFS had negative value (-1), but there must be at least one NUMA node, so returning NUMA node zero\n",
      "2023-04-18 20:28:08.664615: I tensorflow/compiler/xla/stream_executor/cuda/cuda_gpu_executor.cc:981] successful NUMA node read from SysFS had negative value (-1), but there must be at least one NUMA node, so returning NUMA node zero\n",
      "2023-04-18 20:28:08.664955: I tensorflow/core/common_runtime/gpu/gpu_device.cc:1613] Created device /job:localhost/replica:0/task:0/device:GPU:0 with 2221 MB memory:  -> device: 0, name: NVIDIA GeForce GTX 1650, pci bus id: 0000:01:00.0, compute capability: 7.5\n"
     ]
    },
    {
     "name": "stdout",
     "output_type": "stream",
     "text": [
      "Model: \"sequential\"\n",
      "_________________________________________________________________\n",
      " Layer (type)                Output Shape              Param #   \n",
      "=================================================================\n",
      " embedding (Embedding)       (None, 136, 200)          1600000   \n",
      "                                                                 \n",
      " conv1d (Conv1D)             (None, 134, 128)          76928     \n",
      "                                                                 \n",
      " conv1d_1 (Conv1D)           (None, 132, 128)          49280     \n",
      "                                                                 \n",
      " conv1d_2 (Conv1D)           (None, 130, 128)          49280     \n",
      "                                                                 \n",
      " flatten (Flatten)           (None, 16640)             0         \n",
      "                                                                 \n",
      " dense (Dense)               (None, 256)               4260096   \n",
      "                                                                 \n",
      " activity_regularization (Ac  (None, 256)              0         \n",
      " tivityRegularization)                                           \n",
      "                                                                 \n",
      " dense_1 (Dense)             (None, 256)               65792     \n",
      "                                                                 \n",
      " dense_2 (Dense)             (None, 256)               65792     \n",
      "                                                                 \n",
      " activity_regularization_1 (  (None, 256)              0         \n",
      " ActivityRegularization)                                         \n",
      "                                                                 \n",
      " batch_normalization (BatchN  (None, 256)              1024      \n",
      " ormalization)                                                   \n",
      "                                                                 \n",
      " dense_3 (Dense)             (None, 20)                5140      \n",
      "                                                                 \n",
      "=================================================================\n",
      "Total params: 6,173,332\n",
      "Trainable params: 6,172,820\n",
      "Non-trainable params: 512\n",
      "_________________________________________________________________\n"
     ]
    }
   ],
   "source": [
    "model = keras.models.load_model(\"3-conv128-3-dense256-1680808526-weighted.h5\")\n",
    "model.summary()"
   ]
  },
  {
   "cell_type": "code",
   "execution_count": 32,
   "id": "8244db83-99d3-4483-b9cc-ab9f6fead22e",
   "metadata": {},
   "outputs": [
    {
     "name": "stdout",
     "output_type": "stream",
     "text": [
      "32751/32751 [==============================] - 71s 2ms/step - loss: 1.0451 - accuracy: 0.7112\n"
     ]
    },
    {
     "data": {
      "text/plain": [
       "[1.0451329946517944, 0.7112149000167847]"
      ]
     },
     "execution_count": 32,
     "metadata": {},
     "output_type": "execute_result"
    }
   ],
   "source": [
    "model.evaluate(padseq_test, y_test, batch_size=1)"
   ]
  },
  {
   "cell_type": "code",
   "execution_count": 13,
   "id": "f4a40a68-4d88-43be-afae-793fde4331f7",
   "metadata": {},
   "outputs": [],
   "source": [
    "from sklearn.metrics import confusion_matrix"
   ]
  },
  {
   "cell_type": "code",
   "execution_count": 15,
   "id": "3b7adb8f-f96c-4d2f-837b-2ca1a4111c55",
   "metadata": {},
   "outputs": [
    {
     "data": {
      "text/plain": [
       "array([[0., 0., 0., ..., 0., 0., 0.],\n",
       "       [0., 0., 1., ..., 0., 0., 0.],\n",
       "       [0., 0., 0., ..., 0., 0., 0.],\n",
       "       ...,\n",
       "       [0., 0., 0., ..., 0., 0., 0.],\n",
       "       [0., 0., 0., ..., 0., 0., 0.],\n",
       "       [0., 0., 0., ..., 0., 0., 0.]])"
      ]
     },
     "execution_count": 15,
     "metadata": {},
     "output_type": "execute_result"
    }
   ],
   "source": [
    "y_test"
   ]
  },
  {
   "cell_type": "code",
   "execution_count": 19,
   "id": "ca46da32-8193-4941-908f-b2b6a9e9c9b2",
   "metadata": {},
   "outputs": [],
   "source": [
    "ans = np.argmax(y_pred, axis = 1)\n",
    "#ans = labelencoder.classes_[ans]"
   ]
  },
  {
   "cell_type": "code",
   "execution_count": 21,
   "id": "eb537494-840c-4b4b-9c59-309c5e5fb3d7",
   "metadata": {},
   "outputs": [],
   "source": [
    "y_testnum = np.argmax(y_test, axis=1)"
   ]
  },
  {
   "cell_type": "code",
   "execution_count": 23,
   "id": "38979993-91fe-4e2a-9093-449122051f7f",
   "metadata": {},
   "outputs": [],
   "source": [
    "conf = confusion_matrix(y_testnum, ans)"
   ]
  },
  {
   "cell_type": "code",
   "execution_count": 24,
   "id": "452f9127-10d0-427c-9d50-077e6f46f871",
   "metadata": {},
   "outputs": [],
   "source": [
    "import seaborn as sns"
   ]
  },
  {
   "cell_type": "code",
   "execution_count": 29,
   "id": "807e60eb-45fc-4592-89b1-167b1e60f44b",
   "metadata": {},
   "outputs": [
    {
     "data": {
      "text/plain": [
       "array([[ 579,    6,   18,   41,   44,    3,   20,   36,    5,    6,    1,\n",
       "           9,    7,   84,    2,   22,   16,    5,    4,    5],\n",
       "       [   9,  960,   26,    9,   20,    3,   66,    6,   18,   26,   12,\n",
       "          15,    6,   80,   77,   17,   12,   31,   24,   90],\n",
       "       [   9,   11,  666,    6,   31,    2,   12,   77,   12,   10,    6,\n",
       "          11,    9,   65,   20,   39,    4,    8,    9,   16],\n",
       "       [  11,   11,    2,  522,    1,    1,    6,    3,    1,    0,    1,\n",
       "           3,    2,   52,    5,   10,    2,   25,    3,    1],\n",
       "       [  19,    2,   17,    2,  622,    2,   10,   21,    3,    5,    8,\n",
       "           7,    2,   10,   13,    9,   13,    6,   18,    8],\n",
       "       [   1,    1,    5,    1,    2,  640,    2,    7,    2,    3,    0,\n",
       "          12,    8,    5,    2,    4,    3,    1,    3,    4],\n",
       "       [  11,    9,    5,    3,    6,    0,  361,    2,    0,    1,    1,\n",
       "          11,    3,   21,    3,    0,    0,    2,    1,    9],\n",
       "       [ 215,   13,  234,   36,  353,   22,   14, 1831,    9,   22,    7,\n",
       "          21,   52,  102,   31,  118,  115,    9,   21,   22],\n",
       "       [   4,   11,   19,    0,   10,    2,    4,    5, 1001,    8,   43,\n",
       "          11,    3,    3,    3,   11,    5,    0,   71,   17],\n",
       "       [   4,   15,   54,    7,   20,    4,   11,    7,   28,  609,    7,\n",
       "          23,   27,   37,   23,   19,    5,   12,   24,  371],\n",
       "       [   1,    8,    3,    0,   24,    3,    3,    5,    5,    3,  725,\n",
       "           8,    2,    2,    9,    4,   15,    1,   32,    7],\n",
       "       [   7,    8,   15,   20,   27,   39,   59,   13,   15,   25,   16,\n",
       "        1102,  249,   14,   16,   19,   16,    9,   20,   74],\n",
       "       [   9,    1,   11,    5,   12,    7,   10,   14,    3,   24,    4,\n",
       "         257,  362,   13,    2,    9,    3,    1,    5,   18],\n",
       "       [ 119,  199,  182,  123,   85,    7,  117,   42,    7,   39,    3,\n",
       "          22,   20, 5003,   64,   87,    4,  327,   26,   52],\n",
       "       [   4,   32,   29,    5,   23,    1,   33,    6,    5,   40,    5,\n",
       "           3,    4,   19,  583,   12,    2,   10,   16,   30],\n",
       "       [  14,    3,   17,   14,    7,    1,    8,   14,    3,    7,    0,\n",
       "           2,    3,   10,    3,  848,    1,   10,    2,    5],\n",
       "       [  21,   16,   25,    2,   64,   18,    9,   75,   25,   18,   53,\n",
       "          28,    9,   11,   18,   12, 1889,    1,   43,   34],\n",
       "       [   2,   16,   15,   24,   30,    2,    7,    4,    1,    9,    0,\n",
       "           5,    3,   85,   10,   13,    0,  993,   15,    8],\n",
       "       [   3,   17,   16,    5,  120,    1,    7,    3,   42,   10,   14,\n",
       "          16,    1,    6,   23,   26,   13,   36, 1612,   18],\n",
       "       [  17,   60,   20,    3,   74,   45,   31,   10,   55,  398,   50,\n",
       "         105,    9,   38,   64,   51,   24,   22,   91, 2385]])"
      ]
     },
     "execution_count": 29,
     "metadata": {},
     "output_type": "execute_result"
    }
   ],
   "source": [
    "conf"
   ]
  },
  {
   "cell_type": "code",
   "execution_count": 28,
   "id": "8c85ac3d-e864-4b91-b24c-0f7f968618ad",
   "metadata": {},
   "outputs": [
    {
     "data": {
      "text/plain": [
       "<AxesSubplot: >"
      ]
     },
     "execution_count": 28,
     "metadata": {},
     "output_type": "execute_result"
    },
    {
     "data": {
      "image/png": "[encoded data removed]",
      "text/plain": [
       "<Figure size 1000x1000 with 2 Axes>"
      ]
     },
     "metadata": {},
     "output_type": "display_data"
    }
   ],
   "source": [
    "import matplotlib.pyplot as plt\n",
    "plt.figure(figsize=(10,10))\n",
    "sns.heatmap(conf, annot=True)"
   ]
  }
 ],
 "metadata": {
  "kernelspec": {
   "display_name": "Python 3 (ipykernel)",
   "language": "python",
   "name": "python3"
  },
  "language_info": {
   "codemirror_mode": {
    "name": "ipython",
    "version": 3
   },
   "file_extension": ".py",
   "mimetype": "text/x-python",
   "name": "python",
   "nbconvert_exporter": "python",
   "pygments_lexer": "ipython3",
   "version": "3.10.8"
  }
 },
 "nbformat": 4,
 "nbformat_minor": 5
}
